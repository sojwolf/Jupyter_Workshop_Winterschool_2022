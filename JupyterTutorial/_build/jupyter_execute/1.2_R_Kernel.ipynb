{
 "cells": [
  {
   "cell_type": "markdown",
   "id": "433dcaed",
   "metadata": {},
   "source": [
    "# Introduction to Juypter - The R kernel"
   ]
  },
  {
   "cell_type": "markdown",
   "id": "43dacc35",
   "metadata": {},
   "source": [
    "This notebook written in an R kernel. There are some differences to the Python kernel:\n",
    "\n",
    "- no magic commands, since these are specific to the Python kernel\n",
    "- you cannot use R and Python interchangeably \n",
    "\n",
    "However, if you are doing an analysis in R only, using the R kernel makes more sense. Otherwise you would have to type an ```%%R``` at the top of every cell."
   ]
  },
  {
   "cell_type": "code",
   "execution_count": 8,
   "id": "42327a64",
   "metadata": {},
   "outputs": [],
   "source": [
    "x <- c(2,4,5,6,7)"
   ]
  },
  {
   "cell_type": "code",
   "execution_count": 9,
   "id": "67bdcef6",
   "metadata": {},
   "outputs": [
    {
     "data": {
      "text/html": [
       "<style>\n",
       ".list-inline {list-style: none; margin:0; padding: 0}\n",
       ".list-inline>li {display: inline-block}\n",
       ".list-inline>li:not(:last-child)::after {content: \"\\00b7\"; padding: 0 .5ex}\n",
       "</style>\n",
       "<ol class=list-inline><li>2</li><li>4</li><li>5</li><li>6</li><li>7</li></ol>\n"
      ],
      "text/latex": [
       "\\begin{enumerate*}\n",
       "\\item 2\n",
       "\\item 4\n",
       "\\item 5\n",
       "\\item 6\n",
       "\\item 7\n",
       "\\end{enumerate*}\n"
      ],
      "text/markdown": [
       "1. 2\n",
       "2. 4\n",
       "3. 5\n",
       "4. 6\n",
       "5. 7\n",
       "\n",
       "\n"
      ],
      "text/plain": [
       "[1] 2 4 5 6 7"
      ]
     },
     "metadata": {},
     "output_type": "display_data"
    }
   ],
   "source": [
    "x"
   ]
  },
  {
   "cell_type": "code",
   "execution_count": 11,
   "id": "a03b0b6f",
   "metadata": {},
   "outputs": [
    {
     "data": {
      "image/png": "[encoded data removed]",
      "text/plain": [
       "plot without title"
      ]
     },
     "metadata": {
      "filenames": {
       "image/png": "/Users/sophiewolf/Documents/GitHub/Jupyter_Workshop_Winterschool_2022/JupyterTutorial/_build/jupyter_execute/1.2_R_Kernel_4_0.png"
      },
      "image/png": {
       "height": 420,
       "width": 420
      }
     },
     "output_type": "display_data"
    }
   ],
   "source": [
    "plot(x)"
   ]
  }
 ],
 "metadata": {
  "kernelspec": {
   "display_name": "R",
   "language": "R",
   "name": "ir"
  },
  "language_info": {
   "codemirror_mode": "r",
   "file_extension": ".r",
   "mimetype": "text/x-r-source",
   "name": "R",
   "pygments_lexer": "r",
   "version": "4.2.0"
  }
 },
 "nbformat": 4,
 "nbformat_minor": 5
}