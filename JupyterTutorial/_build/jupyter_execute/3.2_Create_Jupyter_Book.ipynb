{
 "cells": [
  {
   "cell_type": "markdown",
   "id": "14366e92-8bbf-4aeb-96ce-49fe9f6145a9",
   "metadata": {},
   "source": [
    "# Publish your workflow as Jupyter Book"
   ]
  },
  {
   "cell_type": "markdown",
   "id": "04dc3842-e972-4a1e-99bf-f846c292cab0",
   "metadata": {},
   "source": [
    "Most of this content was taken from the Jupyter Book documentation: https://jupyterbook.org/en/stable/start/overview.html"
   ]
  },
  {
   "cell_type": "markdown",
   "id": "3855ea55-c664-471f-8c70-5ae411b3e8c1",
   "metadata": {},
   "source": [
    "## Install Jupyter Book"
   ]
  },
  {
   "cell_type": "markdown",
   "id": "31fcae9b-7629-4510-9cf9-9e5ba45f1fe3",
   "metadata": {},
   "source": [
    "First, install Jupyter Book via pip:"
   ]
  },
  {
   "cell_type": "code",
   "execution_count": null,
   "id": "1582f2eb-183e-4743-bfae-d77e156f5547",
   "metadata": {},
   "outputs": [],
   "source": [
    "!pip install -U jupyter-book"
   ]
  },
  {
   "cell_type": "markdown",
   "id": "3886dbff-4b05-4495-86de-b53af60ccdb6",
   "metadata": {},
   "source": [
    "or via conda-forge:"
   ]
  },
  {
   "cell_type": "code",
   "execution_count": null,
   "id": "7262f8ee-6339-4f77-899f-0bb187ca633d",
   "metadata": {},
   "outputs": [],
   "source": [
    "!conda install -c conda-forge jupyter-book"
   ]
  },
  {
   "cell_type": "markdown",
   "id": "4673571e-a5b2-45d0-9a17-228bf81df989",
   "metadata": {},
   "source": [
    "## Create Book"
   ]
  },
  {
   "cell_type": "markdown",
   "id": "bccd197b-4720-42ad-8c75-51f050bf1036",
   "metadata": {},
   "source": [
    "### Create first template"
   ]
  },
  {
   "cell_type": "code",
   "execution_count": 7,
   "id": "70ac549f-1fa7-46f0-9500-3a49e7e3f28e",
   "metadata": {},
   "outputs": [
    {
     "name": "stdout",
     "output_type": "stream",
     "text": [
      "\n",
      "\u001b[92m===============================================================================\u001b[0m\n",
      "\n",
      "Your book template can be found at\n",
      "\n",
      "    JupyterTutorial/\n",
      "\n",
      "\u001b[92m===============================================================================\u001b[0m\n",
      "\n"
     ]
    }
   ],
   "source": [
    "%%bash \n",
    "\n",
    "jupyter-book create JupyterTutorial/"
   ]
  },
  {
   "cell_type": "markdown",
   "id": "85bc7a7e-2a1e-451a-8658-f8ba3040fe32",
   "metadata": {},
   "source": [
    "### Customize the template"
   ]
  },
  {
   "cell_type": "markdown",
   "id": "911e94f2-e59b-442f-ac27-f6524d02f1f6",
   "metadata": {},
   "source": [
    "Open the NewJupyterBook/ directory and open the ```_config.yml``` file and the ```_toc.yml``` file."
   ]
  },
  {
   "cell_type": "markdown",
   "id": "e8bdbfb5-6fc2-4aa8-8b99-e79084d85819",
   "metadata": {},
   "source": [
    "Edit your ```_toc.yml``` (table of conents) file by adding the jupyter notebook and markdwon file names. You do not need to add the ```*.ipynb``` endings. Here is an example: "
   ]
  },
  {
   "cell_type": "markdown",
   "id": "d40b000b-5102-4e03-b894-e93fc9dbe92e",
   "metadata": {},
   "source": [
    "<img align=\"left\" src=\"Figures/toc.png\" width=\"500\" >"
   ]
  },
  {
   "cell_type": "markdown",
   "id": "599be5bd-4d14-4a3c-91be-71b20c3b3742",
   "metadata": {},
   "source": [
    "For more structure options (sub-sections, chapters etc.), refer to https://jupyterbook.org/en/stable/structure/toc.html"
   ]
  },
  {
   "cell_type": "markdown",
   "id": "9da8f7f3-bd2a-44a5-89f9-f350f4803bdf",
   "metadata": {},
   "source": [
    "Next, edit the ```_config.yml``` file.\n",
    "    \n",
    " - change the title\n",
    "- the author name\n",
    "- set excectue to ```'off'```, if you do not want jupyter book to rerun all your code. Otherwise set to ```force```. This will rerun your code as it builds the book. "
   ]
  },
  {
   "cell_type": "markdown",
   "id": "57ffaebe-57fb-4e79-9609-ed206898d989",
   "metadata": {},
   "source": [
    "<img align=\"left\" src=\"Figures/config.png\" width=\"700\" >"
   ]
  },
  {
   "cell_type": "markdown",
   "id": "bcf6a3a5-ea99-49cd-8cd3-afe7e7cb00b5",
   "metadata": {},
   "source": [
    "## Build Book"
   ]
  },
  {
   "cell_type": "markdown",
   "id": "e559c10a-adc9-4b5f-92a9-8bc4f7b24924",
   "metadata": {},
   "source": [
    "Check that you are in the directory that contains your book's root folder:"
   ]
  },
  {
   "cell_type": "code",
   "execution_count": 24,
   "id": "897b6f71-c812-411f-9457-2e906a7f8654",
   "metadata": {},
   "outputs": [
    {
     "name": "stdout",
     "output_type": "stream",
     "text": [
      "1.1_Jupyter_Introduction.ipynb  \u001b[34mData\u001b[m\u001b[m\n",
      "1.2_R_Kernel.ipynb              \u001b[34mFigures\u001b[m\u001b[m\n",
      "2.1_Jupyter_Data_Analysis.ipynb \u001b[34mJupyterTutorial\u001b[m\u001b[m\n",
      "2.2_Additional_Materials.ipynb  README.md\n",
      "3.1_Reuse_Course_Material.ipynb \u001b[34mbinder\u001b[m\u001b[m\n",
      "3.2_Create_Jupyter_Book.ipynb\n"
     ]
    }
   ],
   "source": [
    "!ls"
   ]
  },
  {
   "cell_type": "code",
   "execution_count": 25,
   "id": "38c7acd3-723f-46f4-86e7-970b63f7730c",
   "metadata": {},
   "outputs": [
    {
     "name": "stdout",
     "output_type": "stream",
     "text": [
      "\u001b[32m\u001b[1mRunning Jupyter-Book v0.13.1\u001b[0m\n",
      "\u001b[34m\u001b[1mSource Folder: \u001b[0m/Users/sophiewolf/Documents/GitHub/Jupyter_Workshop_Winterschool_2022/JupyterTutorial\n",
      "\u001b[34m\u001b[1mConfig Path: \u001b[0m/Users/sophiewolf/Documents/GitHub/Jupyter_Workshop_Winterschool_2022/JupyterTutorial/_config.yml\n",
      "\u001b[34m\u001b[1mOutput Path: \u001b[0m/Users/sophiewolf/Documents/GitHub/Jupyter_Workshop_Winterschool_2022/JupyterTutorial/_build/html\n",
      "\u001b[01mRunning Sphinx v4.5.0\u001b[39;49;00m\n",
      "[etoc] Changing master_doc to 'intro'\n",
      "checking bibtex cache... out of date\n",
      "parsing bibtex file /Users/sophiewolf/Documents/GitHub/Jupyter_Workshop_Winterschool_2022/JupyterTutorial/references.bib... parsed 5 entries\n",
      "\u001b[01mmyst v0.15.2:\u001b[39;49;00m MdParserConfig(renderer='sphinx', commonmark_only=False, enable_extensions=['colon_fence', 'dollarmath', 'linkify', 'substitution', 'tasklist'], dmath_allow_labels=True, dmath_allow_space=True, dmath_allow_digits=True, dmath_double_inline=False, update_mathjax=True, mathjax_classes='tex2jax_process|mathjax_process|math|output_area', disable_syntax=[], url_schemes=['mailto', 'http', 'https'], heading_anchors=None, heading_slug_func=None, html_meta=[], footnote_transition=True, substitutions=[], sub_delimiters=['{', '}'], words_per_minute=200)\n",
      "\u001b[01mbuilding [mo]: \u001b[39;49;00mtargets for 0 po files that are out of date\n",
      "\u001b[01mbuilding [html]: \u001b[39;49;00mtargets for 4 source files that are out of date\n",
      "\u001b[01mupdating environment: \u001b[39;49;00m[new config] 4 added, 0 changed, 0 removed\n",
      "\u001b[01mreading sources... \u001b[39;49;00m[100%] \u001b[35mnotebooks\u001b[39;49;00m                                             \n",
      "\u001b[91m/Users/sophiewolf/Documents/GitHub/Jupyter_Workshop_Winterschool_2022/JupyterTutorial/intro.md:: WARNING: toctree contains reference to nonexisting document 'Documents/GitHub/Jupyter_Workshop_Winterschool_2022/1.1_Jupyter_Introduction' [etoc.ref]\u001b[39;49;00m\n",
      "\u001b[91m/Users/sophiewolf/Documents/GitHub/Jupyter_Workshop_Winterschool_2022/JupyterTutorial/intro.md:: WARNING: toctree contains reference to nonexisting document 'Documents/GitHub/Jupyter_Workshop_Winterschool_2022/1.2_R_Kernel' [etoc.ref]\u001b[39;49;00m\n",
      "\u001b[91m/Users/sophiewolf/Documents/GitHub/Jupyter_Workshop_Winterschool_2022/JupyterTutorial/intro.md:: WARNING: toctree contains reference to nonexisting document 'Documents/GitHub/Jupyter_Workshop_Winterschool_2022/2.1_Jupyter_Data_Analysis' [etoc.ref]\u001b[39;49;00m\n",
      "\u001b[91m/Users/sophiewolf/Documents/GitHub/Jupyter_Workshop_Winterschool_2022/JupyterTutorial/intro.md:: WARNING: toctree contains reference to nonexisting document 'Documents/GitHub/Jupyter_Workshop_Winterschool_2022/2.2_Additional_Materials' [etoc.ref]\u001b[39;49;00m\n",
      "\u001b[91m/Users/sophiewolf/Documents/GitHub/Jupyter_Workshop_Winterschool_2022/JupyterTutorial/intro.md:: WARNING: toctree contains reference to nonexisting document 'Documents/GitHub/Jupyter_Workshop_Winterschool_2022/3.1_Reuse_Course_Material' [etoc.ref]\u001b[39;49;00m\n",
      "\u001b[91m/Users/sophiewolf/Documents/GitHub/Jupyter_Workshop_Winterschool_2022/JupyterTutorial/intro.md:: WARNING: toctree contains reference to nonexisting document 'Documents/GitHub/Jupyter_Workshop_Winterschool_2022/3.2_Create_Jupyter_Book' [etoc.ref]\u001b[39;49;00m\n",
      "\u001b[01mlooking for now-outdated files... \u001b[39;49;00mnone found\n",
      "\u001b[01mpickling environment... \u001b[39;49;00mdone\n",
      "\u001b[01mchecking consistency... \u001b[39;49;00m\u001b[91m/Users/sophiewolf/Documents/GitHub/Jupyter_Workshop_Winterschool_2022/JupyterTutorial/markdown.md: WARNING: document isn't included in any toctree\u001b[39;49;00m\n",
      "\u001b[91m/Users/sophiewolf/Documents/GitHub/Jupyter_Workshop_Winterschool_2022/JupyterTutorial/markdown-notebooks.md: WARNING: document isn't included in any toctree\u001b[39;49;00m\n",
      "\u001b[91m/Users/sophiewolf/Documents/GitHub/Jupyter_Workshop_Winterschool_2022/JupyterTutorial/notebooks.ipynb: WARNING: document isn't included in any toctree\u001b[39;49;00m\n",
      "done\n",
      "\u001b[01mpreparing documents... \u001b[39;49;00mdone\n",
      "\u001b[01mwriting output... \u001b[39;49;00m[ 25%] \u001b[32mintro\u001b[39;49;00m                                                  \n",
      "\u001b[91mException occurred:\u001b[39;49;00m\n",
      "  File \"/Users/sophiewolf/miniforge3/envs/winterschool/lib/python3.8/site-packages/docutils/nodes.py\", line 1034, in replace_self\n",
      "    assert not self[att], \\\n",
      "AssertionError: Losing \"classes\" attribute: latex-tableofcontents\n",
      "\u001b[91mThe full traceback has been saved in /var/folders/0p/vn8gjfx53gb1h0vh834xpbzh0000gn/T/sphinx-err-aft2iyz2.log, if you want to report the issue to the developers.\u001b[39;49;00m\n",
      "Please also report this if it was a user error, so that a better error message can be provided next time.\n",
      "A bug report can be filed in the tracker at <https://github.com/sphinx-doc/sphinx/issues>. Thanks!\n",
      "Traceback (most recent call last):\n",
      "  File \"/Users/sophiewolf/miniforge3/envs/winterschool/lib/python3.8/site-packages/jupyter_book/sphinx.py\", line 171, in build_sphinx\n",
      "    app.build(force_all, filenames)\n",
      "  File \"/Users/sophiewolf/miniforge3/envs/winterschool/lib/python3.8/site-packages/sphinx/application.py\", line 330, in build\n",
      "    self.builder.build_update()\n",
      "  File \"/Users/sophiewolf/miniforge3/envs/winterschool/lib/python3.8/site-packages/sphinx/builders/__init__.py\", line 286, in build_update\n",
      "    self.build(to_build,\n",
      "  File \"/Users/sophiewolf/miniforge3/envs/winterschool/lib/python3.8/site-packages/sphinx/builders/__init__.py\", line 350, in build\n",
      "    self.write(docnames, list(updated_docnames), method)\n",
      "  File \"/Users/sophiewolf/miniforge3/envs/winterschool/lib/python3.8/site-packages/sphinx/builders/__init__.py\", line 524, in write\n",
      "    self._write_serial(sorted(docnames))\n",
      "  File \"/Users/sophiewolf/miniforge3/envs/winterschool/lib/python3.8/site-packages/sphinx/builders/__init__.py\", line 531, in _write_serial\n",
      "    doctree = self.env.get_and_resolve_doctree(docname, self)\n",
      "  File \"/Users/sophiewolf/miniforge3/envs/winterschool/lib/python3.8/site-packages/sphinx/environment/__init__.py\", line 535, in get_and_resolve_doctree\n",
      "    toctreenode.replace_self([])\n",
      "  File \"/Users/sophiewolf/miniforge3/envs/winterschool/lib/python3.8/site-packages/docutils/nodes.py\", line 1034, in replace_self\n",
      "    assert not self[att], \\\n",
      "AssertionError: Losing \"classes\" attribute: latex-tableofcontents\n",
      "\n",
      "The above exception was the direct cause of the following exception:\n",
      "\n",
      "Traceback (most recent call last):\n",
      "  File \"/Users/sophiewolf/miniforge3/envs/winterschool/bin/jupyter-book\", line 10, in <module>\n",
      "    sys.exit(main())\n",
      "  File \"/Users/sophiewolf/miniforge3/envs/winterschool/lib/python3.8/site-packages/click/core.py\", line 1130, in __call__\n",
      "    return self.main(*args, **kwargs)\n",
      "  File \"/Users/sophiewolf/miniforge3/envs/winterschool/lib/python3.8/site-packages/click/core.py\", line 1055, in main\n",
      "    rv = self.invoke(ctx)\n",
      "  File \"/Users/sophiewolf/miniforge3/envs/winterschool/lib/python3.8/site-packages/click/core.py\", line 1657, in invoke\n",
      "    return _process_result(sub_ctx.command.invoke(sub_ctx))\n",
      "  File \"/Users/sophiewolf/miniforge3/envs/winterschool/lib/python3.8/site-packages/click/core.py\", line 1404, in invoke\n",
      "    return ctx.invoke(self.callback, **ctx.params)\n",
      "  File \"/Users/sophiewolf/miniforge3/envs/winterschool/lib/python3.8/site-packages/click/core.py\", line 760, in invoke\n",
      "    return __callback(*args, **kwargs)\n",
      "  File \"/Users/sophiewolf/miniforge3/envs/winterschool/lib/python3.8/site-packages/jupyter_book/cli/main.py\", line 323, in build\n",
      "    builder_specific_actions(\n",
      "  File \"/Users/sophiewolf/miniforge3/envs/winterschool/lib/python3.8/site-packages/jupyter_book/cli/main.py\", line 531, in builder_specific_actions\n",
      "    raise RuntimeError(_message_box(msg, color=\"red\", doprint=False)) from result\n",
      "RuntimeError: \n",
      "\u001b[91m===============================================================================\u001b[0m\n",
      "\n",
      "There was an error in building your book. Look above for the cause.\n",
      "\n",
      "\u001b[91m===============================================================================\u001b[0m\n",
      "\n"
     ]
    }
   ],
   "source": [
    "!jupyter-book build JupyterTutorial/"
   ]
  }
 ],
 "metadata": {
  "kernelspec": {
   "display_name": "Python 3 (ipykernel)",
   "language": "python",
   "name": "python3"
  },
  "language_info": {
   "codemirror_mode": {
    "name": "ipython",
    "version": 3
   },
   "file_extension": ".py",
   "mimetype": "text/x-python",
   "name": "python",
   "nbconvert_exporter": "python",
   "pygments_lexer": "ipython3",
   "version": "3.8.13"
  }
 },
 "nbformat": 4,
 "nbformat_minor": 5
}