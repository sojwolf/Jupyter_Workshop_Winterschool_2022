{
 "cells": [
  {
   "cell_type": "markdown",
   "id": "14366e92-8bbf-4aeb-96ce-49fe9f6145a9",
   "metadata": {},
   "source": [
    "# Publish your workflow as a Jupyter Book"
   ]
  },
  {
   "cell_type": "markdown",
   "id": "04dc3842-e972-4a1e-99bf-f846c292cab0",
   "metadata": {},
   "source": [
    "The Jupyter Book is a great way to combine multiple analyses and document an entire workflow in html.\n",
    "\n",
    "Here are some nice examples: https://executablebooks.org/en/latest/gallery.html\n",
    "\n",
    "Most of the following content was taken from the Jupyter Book documentation: https://jupyterbook.org/en/stable/start/overview.html"
   ]
  },
  {
   "cell_type": "markdown",
   "id": "3855ea55-c664-471f-8c70-5ae411b3e8c1",
   "metadata": {},
   "source": [
    "## Install Jupyter Book"
   ]
  },
  {
   "cell_type": "markdown",
   "id": "31fcae9b-7629-4510-9cf9-9e5ba45f1fe3",
   "metadata": {},
   "source": [
    "First, install Jupyter Book via pip:"
   ]
  },
  {
   "cell_type": "code",
   "execution_count": null,
   "id": "1582f2eb-183e-4743-bfae-d77e156f5547",
   "metadata": {},
   "outputs": [],
   "source": [
    "!pip install -U jupyter-book"
   ]
  },
  {
   "cell_type": "markdown",
   "id": "3886dbff-4b05-4495-86de-b53af60ccdb6",
   "metadata": {},
   "source": [
    "or via conda-forge:"
   ]
  },
  {
   "cell_type": "code",
   "execution_count": null,
   "id": "7262f8ee-6339-4f77-899f-0bb187ca633d",
   "metadata": {},
   "outputs": [],
   "source": [
    "!conda install -c conda-forge jupyter-book"
   ]
  },
  {
   "cell_type": "markdown",
   "id": "4673571e-a5b2-45d0-9a17-228bf81df989",
   "metadata": {},
   "source": [
    "## Create Book"
   ]
  },
  {
   "cell_type": "markdown",
   "id": "bccd197b-4720-42ad-8c75-51f050bf1036",
   "metadata": {},
   "source": [
    "### Create first template"
   ]
  },
  {
   "cell_type": "code",
   "execution_count": null,
   "id": "70ac549f-1fa7-46f0-9500-3a49e7e3f28e",
   "metadata": {},
   "outputs": [],
   "source": [
    "%%bash \n",
    "\n",
    "jupyter-book create JupyterTutorial/"
   ]
  },
  {
   "cell_type": "markdown",
   "id": "85bc7a7e-2a1e-451a-8658-f8ba3040fe32",
   "metadata": {},
   "source": [
    "### Customize the template"
   ]
  },
  {
   "cell_type": "markdown",
   "id": "911e94f2-e59b-442f-ac27-f6524d02f1f6",
   "metadata": {},
   "source": [
    "Open the NewJupyterBook/ directory and open the ```_config.yml``` file and the ```_toc.yml``` file."
   ]
  },
  {
   "cell_type": "markdown",
   "id": "e8bdbfb5-6fc2-4aa8-8b99-e79084d85819",
   "metadata": {},
   "source": [
    "Edit your ```_toc.yml``` (table of conents) file by:\n",
    "1. adding the jupyter notebook and markdwon file names. You do not need to add the ```*.ipynb``` endings. \n",
    "2. copy paste the notebook files to your book directory\n",
    "3. keep intro file and customize it to your liking\n",
    "4. delete all tem\n",
    "\n",
    "Here is an example: "
   ]
  },
  {
   "cell_type": "markdown",
   "id": "d40b000b-5102-4e03-b894-e93fc9dbe92e",
   "metadata": {},
   "source": [
    "![toc](Figures/toc.png)"
   ]
  },
  {
   "cell_type": "markdown",
   "id": "599be5bd-4d14-4a3c-91be-71b20c3b3742",
   "metadata": {},
   "source": [
    "For more structure options (sub-sections, chapters etc.), refer to https://jupyterbook.org/en/stable/structure/toc.html"
   ]
  },
  {
   "cell_type": "markdown",
   "id": "9da8f7f3-bd2a-44a5-89f9-f350f4803bdf",
   "metadata": {},
   "source": [
    "Next, edit the ```_config.yml``` file.\n",
    "    \n",
    " - change the title\n",
    "- the author name\n",
    "- set excectue to ```'off'```, if you do not want jupyter book to rerun all your code. Otherwise set to ```force```. This will rerun your code as it builds the book. "
   ]
  },
  {
   "cell_type": "markdown",
   "id": "57ffaebe-57fb-4e79-9609-ed206898d989",
   "metadata": {},
   "source": [
    "![config](Figures/config.png)"
   ]
  },
  {
   "cell_type": "markdown",
   "id": "bcf6a3a5-ea99-49cd-8cd3-afe7e7cb00b5",
   "metadata": {},
   "source": [
    "## Build Book"
   ]
  },
  {
   "cell_type": "markdown",
   "id": "e559c10a-adc9-4b5f-92a9-8bc4f7b24924",
   "metadata": {},
   "source": [
    "Check that you are in the directory that contains your book's directory:"
   ]
  },
  {
   "cell_type": "code",
   "execution_count": 24,
   "id": "897b6f71-c812-411f-9457-2e906a7f8654",
   "metadata": {},
   "outputs": [
    {
     "name": "stdout",
     "output_type": "stream",
     "text": [
      "1.1_Jupyter_Introduction.ipynb  \u001b[34mData\u001b[m\u001b[m\n",
      "1.2_R_Kernel.ipynb              \u001b[34mFigures\u001b[m\u001b[m\n",
      "2.1_Jupyter_Data_Analysis.ipynb \u001b[34mJupyterTutorial\u001b[m\u001b[m\n",
      "2.2_Additional_Materials.ipynb  README.md\n",
      "3.1_Reuse_Course_Material.ipynb \u001b[34mbinder\u001b[m\u001b[m\n",
      "3.2_Create_Jupyter_Book.ipynb\n"
     ]
    }
   ],
   "source": [
    "!ls"
   ]
  },
  {
   "cell_type": "markdown",
   "id": "a81aa730-9c28-4448-9772-777607df7b52",
   "metadata": {},
   "source": [
    "Build your book"
   ]
  },
  {
   "cell_type": "code",
   "execution_count": 51,
   "id": "38c7acd3-723f-46f4-86e7-970b63f7730c",
   "metadata": {},
   "outputs": [
    {
     "name": "stdout",
     "output_type": "stream",
     "text": [
      "\u001b[32m\u001b[1mRunning Jupyter-Book v0.13.1\u001b[0m\n",
      "\u001b[34m\u001b[1mSource Folder: \u001b[0m/Users/sophiewolf/Documents/GitHub/Jupyter_Workshop_Winterschool_2022/JupyterTutorial\n",
      "\u001b[34m\u001b[1mConfig Path: \u001b[0m/Users/sophiewolf/Documents/GitHub/Jupyter_Workshop_Winterschool_2022/JupyterTutorial/_config.yml\n",
      "\u001b[34m\u001b[1mOutput Path: \u001b[0m/Users/sophiewolf/Documents/GitHub/Jupyter_Workshop_Winterschool_2022/JupyterTutorial/_build/html\n",
      "\u001b[01mRunning Sphinx v4.5.0\u001b[39;49;00m\n",
      "[etoc] Changing master_doc to 'intro'\n",
      "\u001b[01mloading pickled environment... \u001b[39;49;00mdone\n",
      "\u001b[01mmyst v0.15.2:\u001b[39;49;00m MdParserConfig(renderer='sphinx', commonmark_only=False, enable_extensions=['colon_fence', 'dollarmath', 'linkify', 'substitution', 'tasklist'], dmath_allow_labels=True, dmath_allow_space=True, dmath_allow_digits=True, dmath_double_inline=False, update_mathjax=True, mathjax_classes='tex2jax_process|mathjax_process|math|output_area', disable_syntax=[], url_schemes=['mailto', 'http', 'https'], heading_anchors=None, heading_slug_func=None, html_meta=[], footnote_transition=True, substitutions=[], sub_delimiters=['{', '}'], words_per_minute=200)\n",
      "\u001b[01mbuilding [mo]: \u001b[39;49;00mtargets for 0 po files that are out of date\n",
      "\u001b[01mbuilding [html]: \u001b[39;49;00mtargets for 2 source files that are out of date\n",
      "\u001b[01mupdating environment: \u001b[39;49;00m0 added, 2 changed, 0 removed\n",
      "\u001b[01mreading sources... \u001b[39;49;00m[100%] \u001b[35m3.2_Create_Jupyter_Book\u001b[39;49;00m                               \n",
      "\u001b[01mlooking for now-outdated files... \u001b[39;49;00mnone found\n",
      "\u001b[01mpickling environment... \u001b[39;49;00mdone\n",
      "\u001b[01mchecking consistency... \u001b[39;49;00mdone\n",
      "\u001b[01mpreparing documents... \u001b[39;49;00mdone\n",
      "\u001b[01mwriting output... \u001b[39;49;00m[100%] \u001b[32mintro\u001b[39;49;00m                                                  \n",
      "\u001b[91mWARNING: Currently Binder/JupyterHub repositories must be on GitHub, got https://sojwolf.github.io/Jupyter_Workshop_Winterschool_2022\u001b[39;49;00m\n",
      "\u001b[91mWARNING: Currently Binder/JupyterHub repositories must be on GitHub, got https://sojwolf.github.io/Jupyter_Workshop_Winterschool_2022\u001b[39;49;00m\n",
      "\u001b[01mgenerating indices... \u001b[39;49;00mgenindex done\n",
      "\u001b[01mwriting additional pages... \u001b[39;49;00msearch done\n",
      "\u001b[01mcopying images... \u001b[39;49;00m[100%] \u001b[33mFigures/settings3.png\u001b[39;49;00m                                  0mm\n",
      "\u001b[01mcopying static files... \u001b[39;49;00mdone\n",
      "\u001b[01mcopying extra files... \u001b[39;49;00mdone\n",
      "\u001b[01mdumping search index in English (code: en)... \u001b[39;49;00mdone\n",
      "\u001b[01mdumping object inventory... \u001b[39;49;00mdone\n",
      "\u001b[01mbuild succeeded, 2 warnings.\u001b[39;49;00m\n",
      "\n",
      "The HTML pages are in JupyterTutorial/_build/html.\n",
      "\n",
      "\u001b[92m===============================================================================\u001b[0m\n",
      "\n",
      "Finished generating HTML for book.\n",
      "Your book's HTML pages are here:\n",
      "    JupyterTutorial/_build/html/\n",
      "You can look at your book by opening this file in a browser:\n",
      "    JupyterTutorial/_build/html/index.html\n",
      "Or paste this line directly into your browser bar:\n",
      "    file:///Users/sophiewolf/Documents/GitHub/Jupyter_Workshop_Winterschool_2022/JupyterTutorial/_build/html/index.html            \n",
      "\n",
      "\u001b[92m===============================================================================\u001b[0m\n",
      "\n"
     ]
    }
   ],
   "source": [
    "!jupyter-book build JupyterTutorial/"
   ]
  },
  {
   "cell_type": "markdown",
   "id": "97250b54-3a3a-4641-b767-4ce3265f7330",
   "metadata": {},
   "source": [
    "Navigate to ```JupyterTutorial/_build/html``` and open ```index.html``` to look at your book. It should look something like this:\n",
    "\n",
    "![jupyterbook](Figures/jupyterbook.png)"
   ]
  },
  {
   "cell_type": "markdown",
   "id": "7251953a-238f-47ad-8599-cbc2db4e1469",
   "metadata": {},
   "source": [
    "## Publish your book online"
   ]
  },
  {
   "cell_type": "markdown",
   "id": "743f941e-8f08-4c57-9978-7d825c796129",
   "metadata": {},
   "source": [
    "There are many options to now incorporate the html code you have built into existing websites.\n"
   ]
  },
  {
   "cell_type": "markdown",
   "id": "f9689f07-6887-402a-9b0e-4ea2afd381ad",
   "metadata": {},
   "source": [
    "### Publish inside your GitHub repository"
   ]
  },
  {
   "cell_type": "markdown",
   "id": "04c565be-11ed-48b4-846d-b854c2c9c5b5",
   "metadata": {},
   "source": [
    "One easy and accessible and free way to publish your book is using GitHub pages:\n",
    "\n",
    "1. Create a new repository or navigate to an exisitng one\n",
    "2. Create a directory ```docs``` in your repository's main directory\n",
    "3. Copy paste the content ```BookName/_build/html``` to ```docs/```\n",
    "4. Execute the following command inside the repository's main directory:"
   ]
  },
  {
   "cell_type": "code",
   "execution_count": null,
   "id": "c5f929eb-b951-4f7e-8921-6f527bf65f14",
   "metadata": {},
   "outputs": [],
   "source": [
    "!touch .nojekyll \n",
    "!git add .nojekyll"
   ]
  },
  {
   "cell_type": "markdown",
   "id": "ea239f69-1095-4aba-8ecb-ceaeea5119b6",
   "metadata": {},
   "source": [
    "Push all changes to GitHub."
   ]
  },
  {
   "cell_type": "markdown",
   "id": "2ab3ff69-e42e-415e-8110-deb9537e8cae",
   "metadata": {},
   "source": [
    "Now open your repository in a browser and make the following configurations:\n",
    "\n",
    "1. Click on Settings\n",
    "2. Click on \"Pages in the side bar\"\n",
    "3. Under \"Source\", choose \"Deploy from branch\"\n",
    "\n",
    "![settings1](Figures/settings1.png)"
   ]
  },
  {
   "cell_type": "markdown",
   "id": "76db31f8-27ef-4b18-bc01-a9810f08fba4",
   "metadata": {},
   "source": [
    "\n",
    "4. Choose main branch and ```docs/```\n",
    "\n",
    "![settings2](Figures/settings2.png)"
   ]
  },
  {
   "cell_type": "markdown",
   "id": "12ef836d-d284-46de-ae2d-ad0853195f46",
   "metadata": {},
   "source": [
    "5. Click ```Save```\n",
    "\n",
    "![settings4](Figures/settings4.png)\n"
   ]
  },
  {
   "cell_type": "markdown",
   "id": "1d6bb0c6-1602-4d62-949c-ea5029e24295",
   "metadata": {},
   "source": [
    "Your site link will now be available at the top of the page. Sometimes it takes some time until the site is avialable:\n",
    "\n",
    "![settings3](Figures/settings3.png)\n"
   ]
  },
  {
   "cell_type": "markdown",
   "id": "d3d0d323-d2b5-44e0-914e-47488fed481a",
   "metadata": {},
   "source": [
    "Click on the link to check out the result!"
   ]
  }
 ],
 "metadata": {
  "kernelspec": {
   "display_name": "Python 3 (ipykernel)",
   "language": "python",
   "name": "python3"
  },
  "language_info": {
   "codemirror_mode": {
    "name": "ipython",
    "version": 3
   },
   "file_extension": ".py",
   "mimetype": "text/x-python",
   "name": "python",
   "nbconvert_exporter": "python",
   "pygments_lexer": "ipython3",
   "version": "3.8.13"
  }
 },
 "nbformat": 4,
 "nbformat_minor": 5
}