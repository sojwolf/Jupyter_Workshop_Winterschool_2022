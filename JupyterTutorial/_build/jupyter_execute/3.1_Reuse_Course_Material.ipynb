{
 "cells": [
  {
   "cell_type": "markdown",
   "id": "4c48e81e-34d1-49a3-b825-b2366c407944",
   "metadata": {},
   "source": [
    "# Reuse of winter school practical course material\n",
    "\n",
    "- Get material and data\n",
    "- Reuse options\n",
    "    - BinderHub\n",
    "    - Other options\n",
    "        - Home institution JupyterLab\n",
    "        - Local computer\n",
    "- Find and install missing requirements\n",
    "    - Installing an R kernel\n",
    "    - Install python packages\n",
    "- Repositories of all tutorials\n",
    "\n",
    "\n",
    "There are different ways of reusing and continuing with the material that you get in touch with in the winter school. This document serves as a rough guide to help you get rolling after the workshop. We show how you can get the scripts and the data and how you can place it into an environment in which you can continue to play with the material. We start with the easiest solution first but also want to highlight some options which require more time and knowledge from your side.\n"
   ]
  },
  {
   "cell_type": "markdown",
   "id": "6eb6fc9c-25f9-423e-be51-db840506eda3",
   "metadata": {},
   "source": [
    "## Get material and data\n",
    "\n",
    "First of all we need to talk about getting the material. Each tutor prepared a Git repository with all the files that are relevant for their workshop part. In there you find e.g. the scripts and folders with files including data and documentation. You can simply click on the download button in a repository to download a Git repository as a zip file to get all the content. \n",
    "\n",
    "While that provides you with most of the things you need to get going there is one caveat. GitHub does not allow us to store large files. That means that we had to put large datasets somewhere else. So that also means you need to get them from somewhere else. This is indicated during the tutorial and one example of this is the dataset of Sophie Wolf.\n",
    "\n",
    "https://syncandshare.desy.de/index.php/s/tTLLCnzbtCCpHot\n",
    "\n",
    "\n",
    "That is already nice you might say. However all above gets you only the original workshop files without your modifications. So let's see how you can preserve and work on with your own files. \n",
    "\n",
    "\n",
    "You can export your work (e.g. .ipynb file) from a JupyterHub by clicking on File and selecting Download.\n",
    "\n",
    "<img align=\"left\" src=\"Figures/download.png\" width=\"900\" >\n",
    "\n",
    "\n"
   ]
  },
  {
   "cell_type": "markdown",
   "id": "3c7352a7-cacf-4e1e-9ebc-53fface996c6",
   "metadata": {},
   "source": [
    "\n",
    "**Interesting to know:** There is not only raw file based exports available. Other processed formats include e.g. html or PDF as shown below which can be handy in some cases giving you a nicely readable representation of your research.\n",
    " \n",
    "\n",
    "<img align=\"left\" src=\"Figures/pdf.png\" width=\"900\" >\n",
    "\n",
    "\n"
   ]
  },
  {
   "cell_type": "markdown",
   "id": "b6ff56ea-36ac-4dcf-a565-165de33a4584",
   "metadata": {},
   "source": [
    "## Reuse options\n"
   ]
  },
  {
   "cell_type": "markdown",
   "id": "bbd85f0d-014b-4b9d-9fc3-d7be79c95345",
   "metadata": {},
   "source": [
    "### BinderHub\n",
    "\n",
    "The easiest solution to continue with the material is to use the same system as we have been using. During the winter school we used a tool called BinderHub in order to enable you to work in your own JupyterLab environment including all requirements that it needed to execute the scripts properly. So what is BinderHub actually?\n",
    "\n",
    "“Have a repository full of Jupyter notebooks? With Binder, open those notebooks in an executable environment, making your code immediately reproducible by anyone, anywhere.” *cited from their website*\n",
    "\n",
    "So that means the tool takes a GitHub repository and turns it into a complete JupyterLab instance to work with. All that happens in a reliable and reproducible way. On https://mybinder.org you can also run the things that we have shown to you during the winter school. To get going:\n",
    "\n",
    "1. Get the original Github-Repository URL of your tutor (see at below)\n",
    "2. Paste it into the form on BinderHub as we did in the winter school\n",
    "3. Wait for the build process and starting of the environment (takes a while)\n",
    "4. Get the modifies files (see above) upload it into the new environment\n",
    "\n",
    "Just in case you are into GitHub. You can also create a copy of the original repository and use that one for further experimentation or to base your own work on the examples. For that:\n",
    "\n",
    "1. Get the original Github-Repository URL of your tutor (see below)\n",
    "2. Copy the repository by creating a fork\n",
    "3. Modify your copy to your liking (e.g. add your files from the winter school)\n",
    "4. Then you copy the URL of your repository and go to step one above\n",
    "\n"
   ]
  },
  {
   "cell_type": "markdown",
   "id": "1ede97f0-f343-4933-ace4-9f9e00f6aa52",
   "metadata": {},
   "source": [
    "### Other options\n",
    "\n",
    "As said above there are some more options to work on with the material. However, not all might be the best way for a beginner to start with as they require some more work or a bit of technical background to set up and run.\n"
   ]
  },
  {
   "cell_type": "markdown",
   "id": "2b0dc8c8-1717-4b7c-8bf3-31bfda80e3a6",
   "metadata": {},
   "source": [
    "#### Home institution JupyterLab\n",
    "\n",
    "Sometimes you might be lucky and your home institution already runs a JupyterLab instance as a service for their employees. In that case you can simply ask how to get access and upload all the workshop data and the scripts to your account and you can start working with it. One thing you need to do to make the scripts work is to install additional python packages which are referenced in the scripts or special Jupyter packages which allow to run e.g. R-Code if you wish to do so. You can read the section further down or ask your IT for support. \n",
    "\n",
    "\n"
   ]
  },
  {
   "cell_type": "markdown",
   "id": "60d46c00-0f4b-4274-b43e-77a89397270b",
   "metadata": {},
   "source": [
    "#### Local computer\n",
    "\n",
    "If you want to use the workshop material on your local machine, you need to install a JupyterLab environment yourself. There are plenty of tutorials out there to do a basic setup. One would be:\n",
    "\n",
    "https://jupyterlab.readthedocs.io/en/latest/getting_started/installation.html\n",
    "\n",
    "After installation of the environment you can open the workshop materials in your JupyterLab. For this navigate to the respective folder in your terminal and then launch Jupyter Lab like so:\n"
   ]
  },
  {
   "cell_type": "code",
   "execution_count": null,
   "id": "8cb4bf37-dbd4-406d-aaa5-ebfb9ab37170",
   "metadata": {},
   "outputs": [],
   "source": [
    "jupyter lab"
   ]
  },
  {
   "cell_type": "markdown",
   "id": "bf35763b-b797-42d0-9d15-89f9a616ce15",
   "metadata": {},
   "source": [
    "\n",
    "That will make the current directory the working directory in JupyterLab and open a browser window that should look familiar to what you have seen at the winter school lessons:\n",
    "\n",
    "<img align=\"left\" src=\"Figures/launch.png\"  >\n",
    "\n",
    "\n",
    "One thing you need to do in order to make the scripts work is to install additional python packages which are referenced in the scripts or also install special Jupyter packages which allow to run e.g. R-Code if you wish to do so. You can read the section further down or ask your IT for support. "
   ]
  },
  {
   "cell_type": "markdown",
   "id": "765d2446-21a0-4793-9d31-d7220a4019f0",
   "metadata": {
    "tags": []
   },
   "source": [
    "## Find and install missing requirements\n",
    "\n",
    "\n",
    "If you go with an institutional installation of JupyterLab or with a local one you will notice that you have to install all dependencies on your own. That includes python and R packages used in the scripts as well as additional kernels which enable it to run specific code like R. Don't worry you do not need to go through the script step by step and guess the requirements. In each of the repositories of your tutors you find a requirements file listing out what you need. You find the information either in a file in the folder named “binder”. The file itself then is called “environment.yml”. Or you find it in a file in the base folder of the repository where it is called “requirements.txt”\n",
    "\n",
    "\n",
    "In this example of an “environment.yml” file you can see the R and python dependencies. The R dependencies you can install via your R console followed by the python packages which you install via your preferred way of installing python packages (e.g. pip). \n",
    "\n",
    "```\n",
    "# binder/environment.yml\n",
    "channels:\n",
    "  - conda-forge\n",
    "  - bioconda\n",
    "dependencies:\n",
    "  #R\n",
    "  - r-base=3.6\n",
    "  - r-tidyverse\n",
    "  - r-raster\n",
    "  - bioconductor-pcamethods\n",
    "  #Python\n",
    "  - numpy\n",
    "  - matplotlib\n",
    "  - pandas\n",
    "  - rpy2\n",
    "  - session-info\n",
    "  - seaborn\n",
    "  - cartopy\n",
    "  - rapidfuz`\n",
    "```\n",
    "\n",
    "\n"
   ]
  },
  {
   "cell_type": "markdown",
   "id": "f9dfeb13-6e17-496a-92c4-baaf59d9bad7",
   "metadata": {},
   "source": [
    "### Installing an R kernel\n",
    "\n",
    "If you want to use an R kernel or R magic within a Python kernel, this has to be installed separately. You can install the IRkernel packages by running to the following command in an R console:\n",
    "\n",
    "install.packages('IRkernel')\n"
   ]
  },
  {
   "cell_type": "markdown",
   "id": "c3b320b9-8bc8-44b0-9865-b8bd6732758a",
   "metadata": {},
   "source": [
    "### Installing R magic\n",
    "\n",
    "You can install e.g. the R magic python package by running to the following command in the terminal:\n"
   ]
  },
  {
   "cell_type": "code",
   "execution_count": null,
   "id": "bead6761-71b5-479a-a1db-d22fb2c7862d",
   "metadata": {},
   "outputs": [],
   "source": [
    "pip install rpy2"
   ]
  },
  {
   "cell_type": "markdown",
   "id": "bd4cdc52-6523-47c6-9fe6-99d2b44fd839",
   "metadata": {},
   "source": [
    "Don’t forget to initialise R magic inside your python kernel notebook for it to work:"
   ]
  },
  {
   "cell_type": "code",
   "execution_count": null,
   "id": "5bdc8f99-f91e-4923-ac49-ce977e447243",
   "metadata": {},
   "outputs": [],
   "source": [
    "%load_ext rpy2\n"
   ]
  },
  {
   "cell_type": "markdown",
   "id": "ccba670b-23e5-4c51-9603-64d043cd8339",
   "metadata": {},
   "source": [
    "## Repositories of all tutorials\n",
    "\n",
    "- Sophie Wolf, Data analysis in Jupyter Notebooks: https://github.com/sojwolf/Jupyter_Workshop_Winterschool_2022\n",
    "- Hanieh Saeedi https://git.ufz.de/winterschool/hs\n",
    "- Michael Öllermann https://github.com/pangaea-data-publisher/community-workshop-material\n",
    "\n",
    "\n",
    "\n",
    "\n"
   ]
  }
 ],
 "metadata": {
  "kernelspec": {
   "display_name": "Python 3 (ipykernel)",
   "language": "python",
   "name": "python3"
  },
  "language_info": {
   "codemirror_mode": {
    "name": "ipython",
    "version": 3
   },
   "file_extension": ".py",
   "mimetype": "text/x-python",
   "name": "python",
   "nbconvert_exporter": "python",
   "pygments_lexer": "ipython3",
   "version": "3.8.13"
  }
 },
 "nbformat": 4,
 "nbformat_minor": 5
}