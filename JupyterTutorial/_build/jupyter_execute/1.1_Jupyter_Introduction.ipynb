{
 "cells": [
  {
   "cell_type": "markdown",
   "id": "5500a852",
   "metadata": {},
   "source": [
    "# Introduction to Jupyter Notebook (Part 1)\n"
   ]
  },
  {
   "cell_type": "markdown",
   "id": "bfbdd65d",
   "metadata": {},
   "source": [
    "*gfbio Winterschool 2022, Sophie Wolf*"
   ]
  },
  {
   "cell_type": "markdown",
   "id": "1e3a21ea",
   "metadata": {},
   "source": [
    "Jupyter refers to **Ju**lia, **Py**thon and **R**\n",
    "\n",
    "Jupyter Notebook (formerly IPython Notebooks) is a web-based open-source interactive computational environment.\n",
    "\n",
    "--- \n",
    "\n",
    "A notbook contains a list of input and output cells, which can contain:"
   ]
  },
  {
   "cell_type": "code",
   "execution_count": 1,
   "id": "63937a62",
   "metadata": {},
   "outputs": [
    {
     "data": {
      "text/plain": [
       "2"
      ]
     },
     "execution_count": 1,
     "metadata": {},
     "output_type": "execute_result"
    }
   ],
   "source": [
    "# code\n",
    "1+1"
   ]
  },
  {
   "cell_type": "markdown",
   "id": "d0ad668c",
   "metadata": {},
   "source": [
    "Text formatted with **Markdown**"
   ]
  },
  {
   "cell_type": "code",
   "execution_count": 2,
   "id": "a58199f8",
   "metadata": {
    "scrolled": true
   },
   "outputs": [
    {
     "data": {
      "image/png": "[encoded data removed]",
      "text/plain": [
       "<Figure size 640x480 with 1 Axes>"
      ]
     },
     "metadata": {
      "filenames": {
       "image/png": "/Users/sophiewolf/Documents/GitHub/Jupyter_Workshop_Winterschool_2022/JupyterTutorial/_build/jupyter_execute/1.1_Jupyter_Introduction_5_0.png"
      }
     },
     "output_type": "display_data"
    }
   ],
   "source": [
    "import matplotlib.pyplot as plt\n",
    "\n",
    "plt.plot(range(10))\n",
    "plt.title('Display plot in notebook')\n",
    "plt.show()"
   ]
  },
  {
   "cell_type": "markdown",
   "id": "73632055",
   "metadata": {},
   "source": [
    "## Creating a new notebook\n",
    "\n",
    "   - Kernels\n",
    "  \n",
    "We will be using Python 3 and R kernels."
   ]
  },
  {
   "cell_type": "markdown",
   "id": "4f560e6b",
   "metadata": {},
   "source": [
    "## First orientation\n",
    "\n",
    "   - user interface tour\n",
    "   - command mode and edit mode\n",
    "   - keyboard shortcuts\n",
    "   "
   ]
  },
  {
   "cell_type": "code",
   "execution_count": 3,
   "id": "94c17531",
   "metadata": {},
   "outputs": [
    {
     "name": "stdout",
     "output_type": "stream",
     "text": [
      "Winterschool 2022\n"
     ]
    }
   ],
   "source": [
    "print(\"Winterschool 2022\")"
   ]
  },
  {
   "cell_type": "code",
   "execution_count": 4,
   "id": "c177db98",
   "metadata": {},
   "outputs": [],
   "source": [
    "title = \"Winterschool 2022\""
   ]
  },
  {
   "cell_type": "code",
   "execution_count": 5,
   "id": "3f6e9a4d",
   "metadata": {},
   "outputs": [
    {
     "data": {
      "text/plain": [
       "'Winterschool 2022'"
      ]
     },
     "execution_count": 5,
     "metadata": {},
     "output_type": "execute_result"
    }
   ],
   "source": [
    "title"
   ]
  },
  {
   "cell_type": "code",
   "execution_count": 6,
   "id": "128f5d06",
   "metadata": {},
   "outputs": [
    {
     "data": {
      "text/plain": [
       "'Winterschool 2022'"
      ]
     },
     "execution_count": 6,
     "metadata": {},
     "output_type": "execute_result"
    }
   ],
   "source": [
    "\"Winterschool 2022\""
   ]
  },
  {
   "cell_type": "markdown",
   "id": "8e0e83b6",
   "metadata": {},
   "source": [
    "Supress output using ```;```"
   ]
  },
  {
   "cell_type": "code",
   "execution_count": 7,
   "id": "0035ef8a",
   "metadata": {},
   "outputs": [],
   "source": [
    "\"Winterschool 2023\";"
   ]
  },
  {
   "cell_type": "markdown",
   "id": "0cec6aed",
   "metadata": {},
   "source": [
    "### 🤖 Try it!\n",
    "\n",
    "**Take a few minutes to explore the keyboard shortcuts.**"
   ]
  },
  {
   "cell_type": "markdown",
   "id": "29d2ad79",
   "metadata": {},
   "source": [
    "---"
   ]
  },
  {
   "cell_type": "markdown",
   "id": "a9b285fc",
   "metadata": {},
   "source": [
    "## Ordering of executions\n",
    "\n",
    "Be mindful: You can execute Jupyter cells in any order.\n",
    "The execution order is displayed as numbers to the left of each code cell."
   ]
  },
  {
   "cell_type": "code",
   "execution_count": 8,
   "id": "86d413f0",
   "metadata": {},
   "outputs": [],
   "source": [
    "species = \"Nepeta cataria\""
   ]
  },
  {
   "cell_type": "code",
   "execution_count": 11,
   "id": "6e93a470",
   "metadata": {},
   "outputs": [
    {
     "data": {
      "text/plain": [
       "'Theobroma cacao'"
      ]
     },
     "execution_count": 11,
     "metadata": {},
     "output_type": "execute_result"
    }
   ],
   "source": [
    "species"
   ]
  },
  {
   "cell_type": "code",
   "execution_count": 10,
   "id": "2f669e38",
   "metadata": {},
   "outputs": [],
   "source": [
    "species = \"Theobroma cacao\""
   ]
  },
  {
   "cell_type": "markdown",
   "id": "09adfdc2",
   "metadata": {},
   "source": [
    "## A few remarks on Markdown\n",
    "\n",
    "Markdown is a simple markup language for creating formatted text using a plain-text editor.\n",
    "\n",
    "---\n",
    "\n",
    "### Some functions\n",
    "\n",
    "- *italics*\n",
    "- **bold**\n",
    "- ```code block here```\n",
    "\n",
    "You can create things like this nice table:\n",
    "\n",
    "| Some traits in TRY database   | ID     | Unit    |\n",
    "| :------------- | :----------: | -----------: |\n",
    "| Leaf area (in case of compound leaves: leaflet, undefined if petiole is in- or excluded) | 3113 | mm<sup>2 |\n",
    "| Leaf area per leaf dry mass (specific leaf area, SLA or 1/LMA): undefined if petiole is in- or excluded) | 3117 |m<sup>2</sup>/kg|\n",
    "| Stem specific density (SSD) or wood density (stem dry mass per stem fresh volume) | 4 | g/cm<sup>3 |\n",
    "| Leaf carbon (C) content per leaf dry mass | 13 | mg/g |\n",
    "| Leaf nitrogen (N) content per leaf dry mass| 14 | mg/g |\n",
    "| Leaf phosphorus (P) content per leaf dry mass| 15| mg/g |\n",
    "| Plant height vegetative | 3106 | m |"
   ]
  },
  {
   "cell_type": "markdown",
   "id": "bcc94e5c",
   "metadata": {},
   "source": [
    "Or insert an image from your local machine or url.\n",
    "\n",
    "![iNaturalist observation: Fouquieria splendens](https://inaturalist-open-data.s3.amazonaws.com/photos/513109/original.jpg?1444266311)\n",
    "\n",
    "This image is a citizen science observation from the project iNaturalist."
   ]
  },
  {
   "cell_type": "markdown",
   "id": "dca1a193",
   "metadata": {},
   "source": [
    "## Line magic and cell magic"
   ]
  },
  {
   "cell_type": "markdown",
   "id": "a3d323ac",
   "metadata": {},
   "source": [
    "Jupyter has a whole library of so-called line or cell magic. These allow you to switch to other programming languages within on single Jupyter notebook."
   ]
  },
  {
   "cell_type": "markdown",
   "id": "3a52b6f0",
   "metadata": {},
   "source": [
    "### bash command \n",
    "\n",
    "To access the terminal simply use an ```!``` before your bash command."
   ]
  },
  {
   "cell_type": "code",
   "execution_count": 12,
   "id": "7a6bcd7a",
   "metadata": {
    "scrolled": false
   },
   "outputs": [
    {
     "name": "stdout",
     "output_type": "stream",
     "text": [
      "/Users/sophiewolf/Documents/GitHub/Jupyter_Workshop_Winterschool_2022\r\n"
     ]
    }
   ],
   "source": [
    "!pwd"
   ]
  },
  {
   "cell_type": "markdown",
   "id": "3742ac3d",
   "metadata": {},
   "source": [
    "For example, you could use it to install a new package:"
   ]
  },
  {
   "cell_type": "code",
   "execution_count": null,
   "id": "1ab6454f",
   "metadata": {},
   "outputs": [],
   "source": [
    "!pip install tqdm"
   ]
  },
  {
   "cell_type": "markdown",
   "id": "d16e7b84",
   "metadata": {},
   "source": [
    "There are many in-built options for line and cell magics. They always start with:\n",
    "\n",
    "  - ```%``` for line magic\n",
    "  - ```%%``` for cell magic\n",
    "  \n",
    "To list all the built-in available magic commands type the following:"
   ]
  },
  {
   "cell_type": "code",
   "execution_count": 13,
   "id": "15ae9949",
   "metadata": {},
   "outputs": [
    {
     "data": {
      "application/json": {
       "cell": {
        "!": "OSMagics",
        "HTML": "Other",
        "SVG": "Other",
        "bash": "Other",
        "capture": "ExecutionMagics",
        "debug": "ExecutionMagics",
        "file": "Other",
        "html": "DisplayMagics",
        "javascript": "DisplayMagics",
        "js": "DisplayMagics",
        "latex": "DisplayMagics",
        "markdown": "DisplayMagics",
        "perl": "Other",
        "prun": "ExecutionMagics",
        "pypy": "Other",
        "python": "Other",
        "python2": "Other",
        "python3": "Other",
        "ruby": "Other",
        "script": "ScriptMagics",
        "sh": "Other",
        "svg": "DisplayMagics",
        "sx": "OSMagics",
        "system": "OSMagics",
        "time": "ExecutionMagics",
        "timeit": "ExecutionMagics",
        "writefile": "OSMagics"
       },
       "line": {
        "alias": "OSMagics",
        "alias_magic": "BasicMagics",
        "autoawait": "AsyncMagics",
        "autocall": "AutoMagics",
        "automagic": "AutoMagics",
        "autosave": "KernelMagics",
        "bookmark": "OSMagics",
        "cat": "Other",
        "cd": "OSMagics",
        "clear": "KernelMagics",
        "colors": "BasicMagics",
        "conda": "PackagingMagics",
        "config": "ConfigMagics",
        "connect_info": "KernelMagics",
        "cp": "Other",
        "debug": "ExecutionMagics",
        "dhist": "OSMagics",
        "dirs": "OSMagics",
        "doctest_mode": "BasicMagics",
        "ed": "Other",
        "edit": "KernelMagics",
        "env": "OSMagics",
        "gui": "BasicMagics",
        "hist": "Other",
        "history": "HistoryMagics",
        "killbgscripts": "ScriptMagics",
        "ldir": "Other",
        "less": "KernelMagics",
        "lf": "Other",
        "lk": "Other",
        "ll": "Other",
        "load": "CodeMagics",
        "load_ext": "ExtensionMagics",
        "loadpy": "CodeMagics",
        "logoff": "LoggingMagics",
        "logon": "LoggingMagics",
        "logstart": "LoggingMagics",
        "logstate": "LoggingMagics",
        "logstop": "LoggingMagics",
        "ls": "Other",
        "lsmagic": "BasicMagics",
        "lx": "Other",
        "macro": "ExecutionMagics",
        "magic": "BasicMagics",
        "man": "KernelMagics",
        "matplotlib": "PylabMagics",
        "mkdir": "Other",
        "more": "KernelMagics",
        "mv": "Other",
        "notebook": "BasicMagics",
        "page": "BasicMagics",
        "pastebin": "CodeMagics",
        "pdb": "ExecutionMagics",
        "pdef": "NamespaceMagics",
        "pdoc": "NamespaceMagics",
        "pfile": "NamespaceMagics",
        "pinfo": "NamespaceMagics",
        "pinfo2": "NamespaceMagics",
        "pip": "PackagingMagics",
        "popd": "OSMagics",
        "pprint": "BasicMagics",
        "precision": "BasicMagics",
        "prun": "ExecutionMagics",
        "psearch": "NamespaceMagics",
        "psource": "NamespaceMagics",
        "pushd": "OSMagics",
        "pwd": "OSMagics",
        "pycat": "OSMagics",
        "pylab": "PylabMagics",
        "qtconsole": "KernelMagics",
        "quickref": "BasicMagics",
        "recall": "HistoryMagics",
        "rehashx": "OSMagics",
        "reload_ext": "ExtensionMagics",
        "rep": "Other",
        "rerun": "HistoryMagics",
        "reset": "NamespaceMagics",
        "reset_selective": "NamespaceMagics",
        "rm": "Other",
        "rmdir": "Other",
        "run": "ExecutionMagics",
        "save": "CodeMagics",
        "sc": "OSMagics",
        "set_env": "OSMagics",
        "store": "StoreMagics",
        "sx": "OSMagics",
        "system": "OSMagics",
        "tb": "ExecutionMagics",
        "time": "ExecutionMagics",
        "timeit": "ExecutionMagics",
        "unalias": "OSMagics",
        "unload_ext": "ExtensionMagics",
        "who": "NamespaceMagics",
        "who_ls": "NamespaceMagics",
        "whos": "NamespaceMagics",
        "xdel": "NamespaceMagics",
        "xmode": "BasicMagics"
       }
      },
      "text/plain": [
       "Available line magics:\n",
       "%alias  %alias_magic  %autoawait  %autocall  %automagic  %autosave  %bookmark  %cat  %cd  %clear  %colors  %conda  %config  %connect_info  %cp  %debug  %dhist  %dirs  %doctest_mode  %ed  %edit  %env  %gui  %hist  %history  %killbgscripts  %ldir  %less  %lf  %lk  %ll  %load  %load_ext  %loadpy  %logoff  %logon  %logstart  %logstate  %logstop  %ls  %lsmagic  %lx  %macro  %magic  %man  %matplotlib  %mkdir  %more  %mv  %notebook  %page  %pastebin  %pdb  %pdef  %pdoc  %pfile  %pinfo  %pinfo2  %pip  %popd  %pprint  %precision  %prun  %psearch  %psource  %pushd  %pwd  %pycat  %pylab  %qtconsole  %quickref  %recall  %rehashx  %reload_ext  %rep  %rerun  %reset  %reset_selective  %rm  %rmdir  %run  %save  %sc  %set_env  %store  %sx  %system  %tb  %time  %timeit  %unalias  %unload_ext  %who  %who_ls  %whos  %xdel  %xmode\n",
       "\n",
       "Available cell magics:\n",
       "%%!  %%HTML  %%SVG  %%bash  %%capture  %%debug  %%file  %%html  %%javascript  %%js  %%latex  %%markdown  %%perl  %%prun  %%pypy  %%python  %%python2  %%python3  %%ruby  %%script  %%sh  %%svg  %%sx  %%system  %%time  %%timeit  %%writefile\n",
       "\n",
       "Automagic is ON, % prefix IS NOT needed for line magics."
      ]
     },
     "execution_count": 13,
     "metadata": {},
     "output_type": "execute_result"
    }
   ],
   "source": [
    "%lsmagic"
   ]
  },
  {
   "cell_type": "markdown",
   "id": "002daf99",
   "metadata": {},
   "source": [
    "**Line magic** refers only to the one line. So all code before and after this line within the same cell will be interpreted as the kernel language, in our case Python 3. There are many bash line magic commands, such as ```%ls``` or ```%pwd```."
   ]
  },
  {
   "cell_type": "code",
   "execution_count": 14,
   "id": "99a38b66",
   "metadata": {},
   "outputs": [
    {
     "name": "stdout",
     "output_type": "stream",
     "text": [
      "\u001b[34mData\u001b[m\u001b[m/\n",
      "\u001b[34mFigures\u001b[m\u001b[m/\n",
      "README.md\n",
      "Winterschool_2022_Additional_Materials.ipynb\n",
      "Winterschool_2022_Jupyter_Data_Analysis.ipynb\n",
      "Winterschool_2022_Jupyter_Introduction.ipynb\n",
      "Winterschool_2022_R_Kernel.ipynb\n",
      "requirements.txt\n",
      "Hi! I'm Python code.\n",
      "And I'm bash script.\n"
     ]
    }
   ],
   "source": [
    "%ls\n",
    "\n",
    "print(\"Hi! I'm Python code.\")\n",
    "!echo \"And I'm bash script.\""
   ]
  },
  {
   "cell_type": "markdown",
   "id": "c2e68c61",
   "metadata": {},
   "source": [
    "**Cell magic** applies to the whole cell, so all code will be interpreted in reference to the magic command. As a result, the following command will generate an error. Cell magic must always be placed at the top of the cell."
   ]
  },
  {
   "cell_type": "code",
   "execution_count": 15,
   "id": "cf635644",
   "metadata": {},
   "outputs": [
    {
     "name": "stdout",
     "output_type": "stream",
     "text": [
      "Data\n",
      "Figures\n",
      "README.md\n",
      "Winterschool_2022_Additional_Materials.ipynb\n",
      "Winterschool_2022_Jupyter_Data_Analysis.ipynb\n",
      "Winterschool_2022_Jupyter_Introduction.ipynb\n",
      "Winterschool_2022_R_Kernel.ipynb\n",
      "requirements.txt\n",
      "Hi! I'm bash script.\n"
     ]
    },
    {
     "name": "stderr",
     "output_type": "stream",
     "text": [
      "bash: line 4: syntax error near unexpected token `\"And I'm Python code.\"'\n",
      "bash: line 4: `print(\"And I'm Python code.\")'\n"
     ]
    },
    {
     "ename": "CalledProcessError",
     "evalue": "Command 'b'\\nls\\necho \"Hi! I\\'m bash script.\"\\nprint(\"And I\\'m Python code.\")\\n'' returned non-zero exit status 2.",
     "output_type": "error",
     "traceback": [
      "\u001b[0;31m---------------------------------------------------------------------------\u001b[0m",
      "\u001b[0;31mCalledProcessError\u001b[0m                        Traceback (most recent call last)",
      "Cell \u001b[0;32mIn [15], line 1\u001b[0m\n\u001b[0;32m----> 1\u001b[0m \u001b[43mget_ipython\u001b[49m\u001b[43m(\u001b[49m\u001b[43m)\u001b[49m\u001b[38;5;241;43m.\u001b[39;49m\u001b[43mrun_cell_magic\u001b[49m\u001b[43m(\u001b[49m\u001b[38;5;124;43m'\u001b[39;49m\u001b[38;5;124;43mbash\u001b[39;49m\u001b[38;5;124;43m'\u001b[39;49m\u001b[43m,\u001b[49m\u001b[43m \u001b[49m\u001b[38;5;124;43m'\u001b[39;49m\u001b[38;5;124;43m'\u001b[39;49m\u001b[43m,\u001b[49m\u001b[43m \u001b[49m\u001b[38;5;124;43m'\u001b[39;49m\u001b[38;5;130;43;01m\\n\u001b[39;49;00m\u001b[38;5;124;43mls\u001b[39;49m\u001b[38;5;130;43;01m\\n\u001b[39;49;00m\u001b[38;5;124;43mecho \u001b[39;49m\u001b[38;5;124;43m\"\u001b[39;49m\u001b[38;5;124;43mHi! I\u001b[39;49m\u001b[38;5;130;43;01m\\'\u001b[39;49;00m\u001b[38;5;124;43mm bash script.\u001b[39;49m\u001b[38;5;124;43m\"\u001b[39;49m\u001b[38;5;130;43;01m\\n\u001b[39;49;00m\u001b[38;5;124;43mprint(\u001b[39;49m\u001b[38;5;124;43m\"\u001b[39;49m\u001b[38;5;124;43mAnd I\u001b[39;49m\u001b[38;5;130;43;01m\\'\u001b[39;49;00m\u001b[38;5;124;43mm Python code.\u001b[39;49m\u001b[38;5;124;43m\"\u001b[39;49m\u001b[38;5;124;43m)\u001b[39;49m\u001b[38;5;130;43;01m\\n\u001b[39;49;00m\u001b[38;5;124;43m'\u001b[39;49m\u001b[43m)\u001b[49m\n",
      "File \u001b[0;32m~/miniforge3/envs/winterschool/lib/python3.8/site-packages/IPython/core/interactiveshell.py:2417\u001b[0m, in \u001b[0;36mInteractiveShell.run_cell_magic\u001b[0;34m(self, magic_name, line, cell)\u001b[0m\n\u001b[1;32m   2415\u001b[0m \u001b[38;5;28;01mwith\u001b[39;00m \u001b[38;5;28mself\u001b[39m\u001b[38;5;241m.\u001b[39mbuiltin_trap:\n\u001b[1;32m   2416\u001b[0m     args \u001b[38;5;241m=\u001b[39m (magic_arg_s, cell)\n\u001b[0;32m-> 2417\u001b[0m     result \u001b[38;5;241m=\u001b[39m \u001b[43mfn\u001b[49m\u001b[43m(\u001b[49m\u001b[38;5;241;43m*\u001b[39;49m\u001b[43margs\u001b[49m\u001b[43m,\u001b[49m\u001b[43m \u001b[49m\u001b[38;5;241;43m*\u001b[39;49m\u001b[38;5;241;43m*\u001b[39;49m\u001b[43mkwargs\u001b[49m\u001b[43m)\u001b[49m\n\u001b[1;32m   2418\u001b[0m \u001b[38;5;28;01mreturn\u001b[39;00m result\n",
      "File \u001b[0;32m~/miniforge3/envs/winterschool/lib/python3.8/site-packages/IPython/core/magics/script.py:153\u001b[0m, in \u001b[0;36mScriptMagics._make_script_magic.<locals>.named_script_magic\u001b[0;34m(line, cell)\u001b[0m\n\u001b[1;32m    151\u001b[0m \u001b[38;5;28;01melse\u001b[39;00m:\n\u001b[1;32m    152\u001b[0m     line \u001b[38;5;241m=\u001b[39m script\n\u001b[0;32m--> 153\u001b[0m \u001b[38;5;28;01mreturn\u001b[39;00m \u001b[38;5;28;43mself\u001b[39;49m\u001b[38;5;241;43m.\u001b[39;49m\u001b[43mshebang\u001b[49m\u001b[43m(\u001b[49m\u001b[43mline\u001b[49m\u001b[43m,\u001b[49m\u001b[43m \u001b[49m\u001b[43mcell\u001b[49m\u001b[43m)\u001b[49m\n",
      "File \u001b[0;32m~/miniforge3/envs/winterschool/lib/python3.8/site-packages/IPython/core/magics/script.py:305\u001b[0m, in \u001b[0;36mScriptMagics.shebang\u001b[0;34m(self, line, cell)\u001b[0m\n\u001b[1;32m    300\u001b[0m \u001b[38;5;28;01mif\u001b[39;00m args\u001b[38;5;241m.\u001b[39mraise_error \u001b[38;5;129;01mand\u001b[39;00m p\u001b[38;5;241m.\u001b[39mreturncode \u001b[38;5;241m!=\u001b[39m \u001b[38;5;241m0\u001b[39m:\n\u001b[1;32m    301\u001b[0m     \u001b[38;5;66;03m# If we get here and p.returncode is still None, we must have\u001b[39;00m\n\u001b[1;32m    302\u001b[0m     \u001b[38;5;66;03m# killed it but not yet seen its return code. We don't wait for it,\u001b[39;00m\n\u001b[1;32m    303\u001b[0m     \u001b[38;5;66;03m# in case it's stuck in uninterruptible sleep. -9 = SIGKILL\u001b[39;00m\n\u001b[1;32m    304\u001b[0m     rc \u001b[38;5;241m=\u001b[39m p\u001b[38;5;241m.\u001b[39mreturncode \u001b[38;5;129;01mor\u001b[39;00m \u001b[38;5;241m-\u001b[39m\u001b[38;5;241m9\u001b[39m\n\u001b[0;32m--> 305\u001b[0m     \u001b[38;5;28;01mraise\u001b[39;00m CalledProcessError(rc, cell)\n",
      "\u001b[0;31mCalledProcessError\u001b[0m: Command 'b'\\nls\\necho \"Hi! I\\'m bash script.\"\\nprint(\"And I\\'m Python code.\")\\n'' returned non-zero exit status 2."
     ]
    }
   ],
   "source": [
    "%%bash\n",
    "\n",
    "ls\n",
    "echo \"Hi! I'm bash script.\"\n",
    "print(\"And I'm Python code.\")"
   ]
  },
  {
   "cell_type": "markdown",
   "id": "7daf29da",
   "metadata": {},
   "source": [
    "Since Jupyter cells can be executed in any order, you might need to check your notebooks variables. The following commands can be very useful:"
   ]
  },
  {
   "cell_type": "code",
   "execution_count": 16,
   "id": "158b12f7",
   "metadata": {},
   "outputs": [
    {
     "name": "stdout",
     "output_type": "stream",
     "text": [
      "plt\t species\t title\t \n"
     ]
    }
   ],
   "source": [
    "# current variable names\n",
    "\n",
    "%who"
   ]
  },
  {
   "cell_type": "code",
   "execution_count": 17,
   "id": "e86ba62b",
   "metadata": {},
   "outputs": [
    {
     "name": "stdout",
     "output_type": "stream",
     "text": [
      "Variable   Type      Data/Info\n",
      "------------------------------\n",
      "plt        module    <module 'matplotlib.pyplo<...>es/matplotlib/pyplot.py'>\n",
      "species    str       Theobroma cacao\n",
      "title      str       Winterschool 2022\n"
     ]
    }
   ],
   "source": [
    "# current variables, incl. type and data\n",
    "\n",
    "%whos"
   ]
  },
  {
   "cell_type": "markdown",
   "id": "53fc2366",
   "metadata": {},
   "source": [
    "Remove a specific variable from environment:"
   ]
  },
  {
   "cell_type": "code",
   "execution_count": 18,
   "id": "e0fe5301",
   "metadata": {},
   "outputs": [
    {
     "name": "stdout",
     "output_type": "stream",
     "text": [
      "Once deleted, variables cannot be recovered. Proceed (y/[n])?  y\n"
     ]
    }
   ],
   "source": [
    "%reset_selective species"
   ]
  },
  {
   "cell_type": "markdown",
   "id": "903aafe8",
   "metadata": {},
   "source": [
    "Remove all variables from environment:"
   ]
  },
  {
   "cell_type": "code",
   "execution_count": 19,
   "id": "5d3d2797",
   "metadata": {},
   "outputs": [
    {
     "name": "stdout",
     "output_type": "stream",
     "text": [
      "Once deleted, variables cannot be recovered. Proceed (y/[n])? n\n",
      "Nothing done.\n"
     ]
    }
   ],
   "source": [
    "%reset"
   ]
  },
  {
   "cell_type": "markdown",
   "id": "f8a5b885",
   "metadata": {},
   "source": [
    "How to embed a video:"
   ]
  },
  {
   "cell_type": "code",
   "execution_count": 20,
   "id": "cd19db5a",
   "metadata": {},
   "outputs": [
    {
     "data": {
      "text/html": [
       "<iframe width=\"700\" height=\"500\" \n",
       "    src=\"https://www.youtube.com/embed/HW29067qVWk\"\n",
       "    frameborder=\"0\"\n",
       "    allowfullscreen></iframe>\n"
      ],
      "text/plain": [
       "<IPython.core.display.HTML object>"
      ]
     },
     "metadata": {},
     "output_type": "display_data"
    }
   ],
   "source": [
    "%%HTML\n",
    "<iframe width=\"700\" height=\"500\" \n",
    "    src=\"https://www.youtube.com/embed/HW29067qVWk\"\n",
    "    frameborder=\"0\"\n",
    "    allowfullscreen></iframe>"
   ]
  },
  {
   "cell_type": "markdown",
   "id": "904dc9e5",
   "metadata": {},
   "source": [
    "### 🤖 Try it!\n",
    "\n",
    "**Take a few minutes to play around with the line and cell magic commands. Create some variables and remove them again.**"
   ]
  },
  {
   "cell_type": "markdown",
   "id": "88d2724b",
   "metadata": {},
   "source": [
    "---"
   ]
  },
  {
   "cell_type": "markdown",
   "id": "a912a8c1",
   "metadata": {},
   "source": [
    "## Visualize plots"
   ]
  },
  {
   "cell_type": "code",
   "execution_count": 21,
   "id": "bc8fb6ba",
   "metadata": {},
   "outputs": [
    {
     "data": {
      "image/png": "[encoded data removed]",
      "text/plain": [
       "<Figure size 640x480 with 1 Axes>"
      ]
     },
     "metadata": {
      "filenames": {
       "image/png": "/Users/sophiewolf/Documents/GitHub/Jupyter_Workshop_Winterschool_2022/JupyterTutorial/_build/jupyter_execute/1.1_Jupyter_Introduction_46_0.png"
      }
     },
     "output_type": "display_data"
    }
   ],
   "source": [
    "# Example from matplotlib documentation\n",
    "\n",
    "import numpy as np # arrays and such\n",
    "import matplotlib.pyplot as plt # plotting\n",
    "\n",
    "# Fixing random state for reproducibility\n",
    "np.random.seed(19680801)\n",
    "\n",
    "\n",
    "N = 50\n",
    "x = np.random.rand(N)\n",
    "y = np.random.rand(N)\n",
    "colors = np.random.rand(N)\n",
    "area = (30 * np.random.rand(N))**2  # 0 to 15 point radii\n",
    "\n",
    "plt.scatter(x, y, s=area, c=colors, alpha=0.5)\n",
    "plt.show()"
   ]
  },
  {
   "cell_type": "markdown",
   "id": "f7e9b466",
   "metadata": {},
   "source": [
    "## Execution time "
   ]
  },
  {
   "cell_type": "markdown",
   "id": "9e4eeb3a",
   "metadata": {},
   "source": [
    "If you want to test the speed of your code, the ```%%time``` magic can be very useful."
   ]
  },
  {
   "cell_type": "code",
   "execution_count": 22,
   "id": "d6e5f6fc",
   "metadata": {},
   "outputs": [
    {
     "data": {
      "image/png": "[encoded data removed]",
      "text/plain": [
       "<Figure size 640x480 with 1 Axes>"
      ]
     },
     "metadata": {
      "filenames": {
       "image/png": "/Users/sophiewolf/Documents/GitHub/Jupyter_Workshop_Winterschool_2022/JupyterTutorial/_build/jupyter_execute/1.1_Jupyter_Introduction_49_0.png"
      }
     },
     "output_type": "display_data"
    },
    {
     "name": "stdout",
     "output_type": "stream",
     "text": [
      "CPU times: user 57.1 ms, sys: 4.01 ms, total: 61.1 ms\n",
      "Wall time: 59.2 ms\n"
     ]
    }
   ],
   "source": [
    "%%time\n",
    "plt.scatter(x, y, s=area, c=colors, alpha=0.5)\n",
    "plt.show()"
   ]
  },
  {
   "cell_type": "markdown",
   "id": "037712f7",
   "metadata": {},
   "source": [
    "## Look up documentation"
   ]
  },
  {
   "cell_type": "markdown",
   "id": "d75099ad",
   "metadata": {},
   "source": [
    "If you want to check the documentation of the function you want to use, simply click inside the function and press ```Shift+Tab```. Or, if that doesn't help, look it up using your favorite search engine!"
   ]
  },
  {
   "cell_type": "code",
   "execution_count": 23,
   "id": "dbb7740e",
   "metadata": {},
   "outputs": [
    {
     "data": {
      "image/png": "[encoded data removed]",
      "text/plain": [
       "<Figure size 640x480 with 1 Axes>"
      ]
     },
     "metadata": {
      "filenames": {
       "image/png": "/Users/sophiewolf/Documents/GitHub/Jupyter_Workshop_Winterschool_2022/JupyterTutorial/_build/jupyter_execute/1.1_Jupyter_Introduction_52_0.png"
      }
     },
     "output_type": "display_data"
    }
   ],
   "source": [
    "plt.scatter(x, y);"
   ]
  },
  {
   "cell_type": "markdown",
   "id": "1248eb4c",
   "metadata": {},
   "source": [
    "## Dataframes"
   ]
  },
  {
   "cell_type": "code",
   "execution_count": 24,
   "id": "ab0b1d20",
   "metadata": {},
   "outputs": [
    {
     "data": {
      "text/html": [
       "<div>\n",
       "<style scoped>\n",
       "    .dataframe tbody tr th:only-of-type {\n",
       "        vertical-align: middle;\n",
       "    }\n",
       "\n",
       "    .dataframe tbody tr th {\n",
       "        vertical-align: top;\n",
       "    }\n",
       "\n",
       "    .dataframe thead th {\n",
       "        text-align: right;\n",
       "    }\n",
       "</style>\n",
       "<table border=\"1\" class=\"dataframe\">\n",
       "  <thead>\n",
       "    <tr style=\"text-align: right;\">\n",
       "      <th></th>\n",
       "      <th>A</th>\n",
       "      <th>B</th>\n",
       "      <th>C</th>\n",
       "      <th>D</th>\n",
       "      <th>E</th>\n",
       "    </tr>\n",
       "  </thead>\n",
       "  <tbody>\n",
       "    <tr>\n",
       "      <th>0</th>\n",
       "      <td>0.835275</td>\n",
       "      <td>0.181993</td>\n",
       "      <td>1.232291</td>\n",
       "      <td>-0.996842</td>\n",
       "      <td>-0.804238</td>\n",
       "    </tr>\n",
       "    <tr>\n",
       "      <th>1</th>\n",
       "      <td>1.833230</td>\n",
       "      <td>0.084046</td>\n",
       "      <td>-0.466226</td>\n",
       "      <td>-0.458791</td>\n",
       "      <td>-0.623695</td>\n",
       "    </tr>\n",
       "    <tr>\n",
       "      <th>2</th>\n",
       "      <td>0.645133</td>\n",
       "      <td>-1.851581</td>\n",
       "      <td>0.843342</td>\n",
       "      <td>1.093867</td>\n",
       "      <td>0.456576</td>\n",
       "    </tr>\n",
       "    <tr>\n",
       "      <th>3</th>\n",
       "      <td>0.273131</td>\n",
       "      <td>-1.916821</td>\n",
       "      <td>0.162999</td>\n",
       "      <td>0.920437</td>\n",
       "      <td>-0.667275</td>\n",
       "    </tr>\n",
       "    <tr>\n",
       "      <th>4</th>\n",
       "      <td>-0.046662</td>\n",
       "      <td>-0.613771</td>\n",
       "      <td>-0.374934</td>\n",
       "      <td>0.516941</td>\n",
       "      <td>0.538914</td>\n",
       "    </tr>\n",
       "    <tr>\n",
       "      <th>...</th>\n",
       "      <td>...</td>\n",
       "      <td>...</td>\n",
       "      <td>...</td>\n",
       "      <td>...</td>\n",
       "      <td>...</td>\n",
       "    </tr>\n",
       "    <tr>\n",
       "      <th>95</th>\n",
       "      <td>-1.207959</td>\n",
       "      <td>-0.517363</td>\n",
       "      <td>0.597141</td>\n",
       "      <td>0.588914</td>\n",
       "      <td>-0.872500</td>\n",
       "    </tr>\n",
       "    <tr>\n",
       "      <th>96</th>\n",
       "      <td>0.691405</td>\n",
       "      <td>0.009598</td>\n",
       "      <td>-0.211532</td>\n",
       "      <td>-0.821576</td>\n",
       "      <td>0.920173</td>\n",
       "    </tr>\n",
       "    <tr>\n",
       "      <th>97</th>\n",
       "      <td>-1.025475</td>\n",
       "      <td>0.269079</td>\n",
       "      <td>1.641999</td>\n",
       "      <td>-1.113975</td>\n",
       "      <td>-0.174968</td>\n",
       "    </tr>\n",
       "    <tr>\n",
       "      <th>98</th>\n",
       "      <td>-0.787913</td>\n",
       "      <td>-0.093945</td>\n",
       "      <td>-0.791022</td>\n",
       "      <td>-1.639523</td>\n",
       "      <td>-1.884071</td>\n",
       "    </tr>\n",
       "    <tr>\n",
       "      <th>99</th>\n",
       "      <td>-0.512947</td>\n",
       "      <td>0.432264</td>\n",
       "      <td>-1.149004</td>\n",
       "      <td>0.731894</td>\n",
       "      <td>-1.413364</td>\n",
       "    </tr>\n",
       "  </tbody>\n",
       "</table>\n",
       "<p>100 rows × 5 columns</p>\n",
       "</div>"
      ],
      "text/plain": [
       "           A         B         C         D         E\n",
       "0   0.835275  0.181993  1.232291 -0.996842 -0.804238\n",
       "1   1.833230  0.084046 -0.466226 -0.458791 -0.623695\n",
       "2   0.645133 -1.851581  0.843342  1.093867  0.456576\n",
       "3   0.273131 -1.916821  0.162999  0.920437 -0.667275\n",
       "4  -0.046662 -0.613771 -0.374934  0.516941  0.538914\n",
       "..       ...       ...       ...       ...       ...\n",
       "95 -1.207959 -0.517363  0.597141  0.588914 -0.872500\n",
       "96  0.691405  0.009598 -0.211532 -0.821576  0.920173\n",
       "97 -1.025475  0.269079  1.641999 -1.113975 -0.174968\n",
       "98 -0.787913 -0.093945 -0.791022 -1.639523 -1.884071\n",
       "99 -0.512947  0.432264 -1.149004  0.731894 -1.413364\n",
       "\n",
       "[100 rows x 5 columns]"
      ]
     },
     "execution_count": 24,
     "metadata": {},
     "output_type": "execute_result"
    }
   ],
   "source": [
    "import pandas as pd #handles dataframes in Python\n",
    "import numpy as np #arrays and such in Python\n",
    "\n",
    "# create sample dataframe\n",
    "\n",
    "df = pd.DataFrame(np.random.randn(100,5), columns=[\"A\",\"B\",\"C\",\"D\",\"E\"])\n",
    "df"
   ]
  },
  {
   "cell_type": "code",
   "execution_count": 25,
   "id": "22637162",
   "metadata": {},
   "outputs": [
    {
     "data": {
      "text/html": [
       "<div>\n",
       "<style scoped>\n",
       "    .dataframe tbody tr th:only-of-type {\n",
       "        vertical-align: middle;\n",
       "    }\n",
       "\n",
       "    .dataframe tbody tr th {\n",
       "        vertical-align: top;\n",
       "    }\n",
       "\n",
       "    .dataframe thead th {\n",
       "        text-align: right;\n",
       "    }\n",
       "</style>\n",
       "<table border=\"1\" class=\"dataframe\">\n",
       "  <thead>\n",
       "    <tr style=\"text-align: right;\">\n",
       "      <th></th>\n",
       "      <th>A</th>\n",
       "      <th>B</th>\n",
       "      <th>C</th>\n",
       "      <th>D</th>\n",
       "      <th>E</th>\n",
       "    </tr>\n",
       "  </thead>\n",
       "  <tbody>\n",
       "    <tr>\n",
       "      <th>0</th>\n",
       "      <td>0.835275</td>\n",
       "      <td>0.181993</td>\n",
       "      <td>1.232291</td>\n",
       "      <td>-0.996842</td>\n",
       "      <td>-0.804238</td>\n",
       "    </tr>\n",
       "    <tr>\n",
       "      <th>1</th>\n",
       "      <td>1.833230</td>\n",
       "      <td>0.084046</td>\n",
       "      <td>-0.466226</td>\n",
       "      <td>-0.458791</td>\n",
       "      <td>-0.623695</td>\n",
       "    </tr>\n",
       "    <tr>\n",
       "      <th>2</th>\n",
       "      <td>0.645133</td>\n",
       "      <td>-1.851581</td>\n",
       "      <td>0.843342</td>\n",
       "      <td>1.093867</td>\n",
       "      <td>0.456576</td>\n",
       "    </tr>\n",
       "    <tr>\n",
       "      <th>3</th>\n",
       "      <td>0.273131</td>\n",
       "      <td>-1.916821</td>\n",
       "      <td>0.162999</td>\n",
       "      <td>0.920437</td>\n",
       "      <td>-0.667275</td>\n",
       "    </tr>\n",
       "    <tr>\n",
       "      <th>4</th>\n",
       "      <td>-0.046662</td>\n",
       "      <td>-0.613771</td>\n",
       "      <td>-0.374934</td>\n",
       "      <td>0.516941</td>\n",
       "      <td>0.538914</td>\n",
       "    </tr>\n",
       "  </tbody>\n",
       "</table>\n",
       "</div>"
      ],
      "text/plain": [
       "          A         B         C         D         E\n",
       "0  0.835275  0.181993  1.232291 -0.996842 -0.804238\n",
       "1  1.833230  0.084046 -0.466226 -0.458791 -0.623695\n",
       "2  0.645133 -1.851581  0.843342  1.093867  0.456576\n",
       "3  0.273131 -1.916821  0.162999  0.920437 -0.667275\n",
       "4 -0.046662 -0.613771 -0.374934  0.516941  0.538914"
      ]
     },
     "execution_count": 25,
     "metadata": {},
     "output_type": "execute_result"
    }
   ],
   "source": [
    "# display only the first 5 rows\n",
    "df.head(5)"
   ]
  },
  {
   "cell_type": "markdown",
   "id": "1d22760f",
   "metadata": {},
   "source": [
    "### 🤖 Try it!\n",
    "\n",
    "**Use the scatter plot function above together with data from the sample dataframe ```df```. Look up the ```plt.scatter()``` documentation to add features to your plot.**"
   ]
  },
  {
   "cell_type": "code",
   "execution_count": null,
   "id": "56bf2c46",
   "metadata": {},
   "outputs": [],
   "source": [
    "# play around with scatter plot function"
   ]
  },
  {
   "cell_type": "markdown",
   "id": "59b0fe72",
   "metadata": {},
   "source": [
    "---"
   ]
  },
  {
   "cell_type": "markdown",
   "id": "1c8abcf9",
   "metadata": {},
   "source": [
    "## Using R within a Python Juypter notebook"
   ]
  },
  {
   "cell_type": "markdown",
   "id": "c2218c67",
   "metadata": {},
   "source": [
    "### R Magic"
   ]
  },
  {
   "cell_type": "markdown",
   "id": "0be47830",
   "metadata": {},
   "source": [
    "To use R within a Python Juypter notebook, which was intitiated using a Python kernel, we need so-called R magic. "
   ]
  },
  {
   "cell_type": "code",
   "execution_count": 26,
   "id": "13368953",
   "metadata": {},
   "outputs": [],
   "source": [
    "# enables the %%R magic, needs to be installed and then activated only once per Notebook \n",
    "%load_ext rpy2.ipython"
   ]
  },
  {
   "cell_type": "markdown",
   "id": "645c97d7",
   "metadata": {},
   "source": [
    "As we've seen before, ```%``` denotes line magic, while ```%%``` denotes cell magic. R magic uses the same syntax."
   ]
  },
  {
   "cell_type": "code",
   "execution_count": 27,
   "id": "85510013",
   "metadata": {},
   "outputs": [
    {
     "data": {
      "text/plain": [
       "array([0.7003673 , 0.74275081, 0.70928001, 0.56674552, 0.97778533,\n",
       "       0.70633485, 0.24791576, 0.15788335, 0.69769852, 0.71995667,\n",
       "       0.25774443, 0.34154678, 0.96876117, 0.6945071 , 0.46638326,\n",
       "       0.7028127 , 0.51178587, 0.92874137, 0.7397693 , 0.62243903,\n",
       "       0.65154547, 0.39680761, 0.54323939, 0.79989953, 0.72154473,\n",
       "       0.29536398, 0.16094588, 0.20612551, 0.13432539, 0.48060502,\n",
       "       0.34252181, 0.36296929, 0.97291764, 0.11094361, 0.38826409,\n",
       "       0.78306588, 0.97289726, 0.48320961, 0.33642111, 0.56741904,\n",
       "       0.04794151, 0.38893703, 0.90630365, 0.16101821, 0.74362113,\n",
       "       0.63297416, 0.32418002, 0.92237653, 0.23722644, 0.82394557])"
      ]
     },
     "execution_count": 27,
     "metadata": {},
     "output_type": "execute_result"
    }
   ],
   "source": [
    "%R x <- c(1, 2, 3)\n",
    "\n",
    "x"
   ]
  },
  {
   "cell_type": "markdown",
   "id": "4673541e",
   "metadata": {},
   "source": [
    "R variables can also be used across different cells, as long as you call R magic every time."
   ]
  },
  {
   "cell_type": "code",
   "execution_count": 28,
   "id": "432f35d0",
   "metadata": {},
   "outputs": [
    {
     "data": {
      "text/plain": [
       "array([1., 2., 3.])"
      ]
     },
     "execution_count": 28,
     "metadata": {},
     "output_type": "execute_result"
    }
   ],
   "source": [
    "%R x"
   ]
  },
  {
   "cell_type": "code",
   "execution_count": 29,
   "id": "751abd1c",
   "metadata": {},
   "outputs": [
    {
     "data": {
      "image/png": "[encoded data removed]"
     },
     "metadata": {
      "filenames": {
       "image/png": "/Users/sophiewolf/Documents/GitHub/Jupyter_Workshop_Winterschool_2022/JupyterTutorial/_build/jupyter_execute/1.1_Jupyter_Introduction_67_0.png"
      }
     },
     "output_type": "display_data"
    }
   ],
   "source": [
    "%%R\n",
    "\n",
    "x <- append(x, c(5,6,7))\n",
    "plot(x)"
   ]
  },
  {
   "cell_type": "markdown",
   "id": "6bfde755",
   "metadata": {},
   "source": [
    "### Move variables from Python environment to R, and vice versa"
   ]
  },
  {
   "cell_type": "code",
   "execution_count": 30,
   "id": "d33bfbcb",
   "metadata": {},
   "outputs": [
    {
     "name": "stdout",
     "output_type": "stream",
     "text": [
      "Variable   Type         Data/Info\n",
      "---------------------------------\n",
      "N          int          50\n",
      "area       ndarray      50: 50 elems, type `float64`, 400 bytes\n",
      "colors     ndarray      50: 50 elems, type `float64`, 400 bytes\n",
      "df         DataFrame               A         B   <...>n\\n[100 rows x 5 columns]\n",
      "np         module       <module 'numpy' from '/Us<...>kages/numpy/__init__.py'>\n",
      "pd         module       <module 'pandas' from '/U<...>ages/pandas/__init__.py'>\n",
      "plt        module       <module 'matplotlib.pyplo<...>es/matplotlib/pyplot.py'>\n",
      "title      str          Winterschool 2022\n",
      "x          ndarray      50: 50 elems, type `float64`, 400 bytes\n",
      "y          ndarray      50: 50 elems, type `float64`, 400 bytes\n"
     ]
    }
   ],
   "source": [
    "%whos"
   ]
  },
  {
   "cell_type": "code",
   "execution_count": 31,
   "id": "ed13a199",
   "metadata": {},
   "outputs": [],
   "source": [
    "%Rpush df"
   ]
  },
  {
   "cell_type": "code",
   "execution_count": 32,
   "id": "ef0212af",
   "metadata": {},
   "outputs": [
    {
     "data": {
      "text/html": [
       "<div>\n",
       "<style scoped>\n",
       "    .dataframe tbody tr th:only-of-type {\n",
       "        vertical-align: middle;\n",
       "    }\n",
       "\n",
       "    .dataframe tbody tr th {\n",
       "        vertical-align: top;\n",
       "    }\n",
       "\n",
       "    .dataframe thead th {\n",
       "        text-align: right;\n",
       "    }\n",
       "</style>\n",
       "<table border=\"1\" class=\"dataframe\">\n",
       "  <thead>\n",
       "    <tr style=\"text-align: right;\">\n",
       "      <th></th>\n",
       "      <th>A</th>\n",
       "      <th>B</th>\n",
       "      <th>C</th>\n",
       "      <th>D</th>\n",
       "      <th>E</th>\n",
       "    </tr>\n",
       "  </thead>\n",
       "  <tbody>\n",
       "    <tr>\n",
       "      <th>0</th>\n",
       "      <td>0.835275</td>\n",
       "      <td>0.181993</td>\n",
       "      <td>1.232291</td>\n",
       "      <td>-0.996842</td>\n",
       "      <td>-0.804238</td>\n",
       "    </tr>\n",
       "    <tr>\n",
       "      <th>1</th>\n",
       "      <td>1.833230</td>\n",
       "      <td>0.084046</td>\n",
       "      <td>-0.466226</td>\n",
       "      <td>-0.458791</td>\n",
       "      <td>-0.623695</td>\n",
       "    </tr>\n",
       "    <tr>\n",
       "      <th>2</th>\n",
       "      <td>0.645133</td>\n",
       "      <td>-1.851581</td>\n",
       "      <td>0.843342</td>\n",
       "      <td>1.093867</td>\n",
       "      <td>0.456576</td>\n",
       "    </tr>\n",
       "    <tr>\n",
       "      <th>3</th>\n",
       "      <td>0.273131</td>\n",
       "      <td>-1.916821</td>\n",
       "      <td>0.162999</td>\n",
       "      <td>0.920437</td>\n",
       "      <td>-0.667275</td>\n",
       "    </tr>\n",
       "    <tr>\n",
       "      <th>4</th>\n",
       "      <td>-0.046662</td>\n",
       "      <td>-0.613771</td>\n",
       "      <td>-0.374934</td>\n",
       "      <td>0.516941</td>\n",
       "      <td>0.538914</td>\n",
       "    </tr>\n",
       "    <tr>\n",
       "      <th>...</th>\n",
       "      <td>...</td>\n",
       "      <td>...</td>\n",
       "      <td>...</td>\n",
       "      <td>...</td>\n",
       "      <td>...</td>\n",
       "    </tr>\n",
       "    <tr>\n",
       "      <th>95</th>\n",
       "      <td>-1.207959</td>\n",
       "      <td>-0.517363</td>\n",
       "      <td>0.597141</td>\n",
       "      <td>0.588914</td>\n",
       "      <td>-0.872500</td>\n",
       "    </tr>\n",
       "    <tr>\n",
       "      <th>96</th>\n",
       "      <td>0.691405</td>\n",
       "      <td>0.009598</td>\n",
       "      <td>-0.211532</td>\n",
       "      <td>-0.821576</td>\n",
       "      <td>0.920173</td>\n",
       "    </tr>\n",
       "    <tr>\n",
       "      <th>97</th>\n",
       "      <td>-1.025475</td>\n",
       "      <td>0.269079</td>\n",
       "      <td>1.641999</td>\n",
       "      <td>-1.113975</td>\n",
       "      <td>-0.174968</td>\n",
       "    </tr>\n",
       "    <tr>\n",
       "      <th>98</th>\n",
       "      <td>-0.787913</td>\n",
       "      <td>-0.093945</td>\n",
       "      <td>-0.791022</td>\n",
       "      <td>-1.639523</td>\n",
       "      <td>-1.884071</td>\n",
       "    </tr>\n",
       "    <tr>\n",
       "      <th>99</th>\n",
       "      <td>-0.512947</td>\n",
       "      <td>0.432264</td>\n",
       "      <td>-1.149004</td>\n",
       "      <td>0.731894</td>\n",
       "      <td>-1.413364</td>\n",
       "    </tr>\n",
       "  </tbody>\n",
       "</table>\n",
       "<p>100 rows × 5 columns</p>\n",
       "</div>"
      ],
      "text/plain": [
       "           A         B         C         D         E\n",
       "0   0.835275  0.181993  1.232291 -0.996842 -0.804238\n",
       "1   1.833230  0.084046 -0.466226 -0.458791 -0.623695\n",
       "2   0.645133 -1.851581  0.843342  1.093867  0.456576\n",
       "3   0.273131 -1.916821  0.162999  0.920437 -0.667275\n",
       "4  -0.046662 -0.613771 -0.374934  0.516941  0.538914\n",
       "..       ...       ...       ...       ...       ...\n",
       "95 -1.207959 -0.517363  0.597141  0.588914 -0.872500\n",
       "96  0.691405  0.009598 -0.211532 -0.821576  0.920173\n",
       "97 -1.025475  0.269079  1.641999 -1.113975 -0.174968\n",
       "98 -0.787913 -0.093945 -0.791022 -1.639523 -1.884071\n",
       "99 -0.512947  0.432264 -1.149004  0.731894 -1.413364\n",
       "\n",
       "[100 rows x 5 columns]"
      ]
     },
     "execution_count": 32,
     "metadata": {},
     "output_type": "execute_result"
    }
   ],
   "source": [
    "%R df"
   ]
  },
  {
   "cell_type": "code",
   "execution_count": 33,
   "id": "eb776533",
   "metadata": {},
   "outputs": [
    {
     "name": "stdout",
     "output_type": "stream",
     "text": [
      "[1] -0.04536287\n"
     ]
    }
   ],
   "source": [
    "%%R\n",
    "\n",
    "correlation <- cor(df$A, df$B)\n",
    "correlation"
   ]
  },
  {
   "cell_type": "code",
   "execution_count": 34,
   "id": "15836008",
   "metadata": {},
   "outputs": [
    {
     "data": {
      "text/plain": [
       "array([-0.04536287])"
      ]
     },
     "execution_count": 34,
     "metadata": {},
     "output_type": "execute_result"
    }
   ],
   "source": [
    "correlation = %Rget correlation\n",
    "correlation"
   ]
  },
  {
   "cell_type": "markdown",
   "id": "c7d30785",
   "metadata": {},
   "source": [
    "### Create a new notebook using an R kernel"
   ]
  },
  {
   "cell_type": "markdown",
   "id": "ddc7702f",
   "metadata": {},
   "source": [
    "See file ```Winterschool_2022_R_Kernel.ipynb```"
   ]
  },
  {
   "cell_type": "markdown",
   "id": "fcf297cc",
   "metadata": {},
   "source": [
    "## Practical example with vegetation data"
   ]
  },
  {
   "cell_type": "code",
   "execution_count": 35,
   "id": "1fca7ba5",
   "metadata": {},
   "outputs": [],
   "source": [
    "# import required packages\n",
    "\n",
    "import pandas as pd #for data frames\n",
    "import numpy as np #\n",
    "from matplotlib import pyplot as plt #for plotting"
   ]
  },
  {
   "cell_type": "markdown",
   "id": "a26d7f30",
   "metadata": {},
   "source": [
    "### sPlotOpen"
   ]
  },
  {
   "cell_type": "markdown",
   "id": "619a3011",
   "metadata": {},
   "source": [
    "sPlotOpen (Sabatini et al, 2021) is an open-access and environmentally and spatially balanced subset of the global sPlot vegetation plots data set v2.1 (Bruelheide et al, 2019).\n",
    "\n",
    "For future reference, sPlotOpen Data is available at the iDiv Data Repository. For this study we used version 52, which you can download using the following link: https://idata.idiv.de/ddm/Data/ShowData/3474\n",
    "\n",
    "The data is stored in various tab-separated files:\n",
    "\n",
    "- **sPlotOpen_header(2).txt** : contains information on each plot, such as coordinates, date, biome, country, etc.\n",
    "- **sPlotOpen_DT(1).txt** : contains information per plot and species with abundance and relative cover\n",
    "- **sPlotOpen_CWM_CWV(1).txt** : contains information on trait community weighted means and variances for each plot and 18 traits (ln-transformed)"
   ]
  },
  {
   "cell_type": "markdown",
   "id": "f127bda2",
   "metadata": {},
   "source": [
    "For this example, we will look at the trait community weighted means."
   ]
  },
  {
   "cell_type": "code",
   "execution_count": 36,
   "id": "7b05d166",
   "metadata": {},
   "outputs": [],
   "source": [
    "cwm = pd.read_csv(\"Data/sPlotOpen_CWM_CWV(1).txt\", sep= \"\\t\")"
   ]
  },
  {
   "cell_type": "markdown",
   "id": "c041cac5",
   "metadata": {},
   "source": [
    "View the first 5 rows of data frame. **Note: All values are in natural logarithm.**"
   ]
  },
  {
   "cell_type": "code",
   "execution_count": 37,
   "id": "3f853b66",
   "metadata": {},
   "outputs": [
    {
     "data": {
      "text/html": [
       "<div>\n",
       "<style scoped>\n",
       "    .dataframe tbody tr th:only-of-type {\n",
       "        vertical-align: middle;\n",
       "    }\n",
       "\n",
       "    .dataframe tbody tr th {\n",
       "        vertical-align: top;\n",
       "    }\n",
       "\n",
       "    .dataframe thead th {\n",
       "        text-align: right;\n",
       "    }\n",
       "</style>\n",
       "<table border=\"1\" class=\"dataframe\">\n",
       "  <thead>\n",
       "    <tr style=\"text-align: right;\">\n",
       "      <th></th>\n",
       "      <th>PlotObservationID</th>\n",
       "      <th>TraitCoverage_cover</th>\n",
       "      <th>Species_richness</th>\n",
       "      <th>TraitCoverage_pa</th>\n",
       "      <th>LeafArea_CWM</th>\n",
       "      <th>StemDens_CWM</th>\n",
       "      <th>SLA_CWM</th>\n",
       "      <th>LeafC_perdrymass_CWM</th>\n",
       "      <th>LeafN_CWM</th>\n",
       "      <th>LeafP_CWM</th>\n",
       "      <th>...</th>\n",
       "      <th>Seed_length_CWV</th>\n",
       "      <th>LDMC_CWV</th>\n",
       "      <th>LeafNperArea_CWV</th>\n",
       "      <th>LeafNPratio_CWV</th>\n",
       "      <th>Leaf_delta_15N_CWV</th>\n",
       "      <th>Seed_num_rep_unit_CWV</th>\n",
       "      <th>Leaffreshmass_CWV</th>\n",
       "      <th>Stem_cond_dens_CWV</th>\n",
       "      <th>Disp_unit_leng_CWV</th>\n",
       "      <th>Wood_vessel_length_CWV</th>\n",
       "    </tr>\n",
       "  </thead>\n",
       "  <tbody>\n",
       "    <tr>\n",
       "      <th>0</th>\n",
       "      <td>16</td>\n",
       "      <td>0.277778</td>\n",
       "      <td>3</td>\n",
       "      <td>0.333333</td>\n",
       "      <td>3.678311</td>\n",
       "      <td>-1.047293</td>\n",
       "      <td>2.890748</td>\n",
       "      <td>6.128157</td>\n",
       "      <td>2.873263</td>\n",
       "      <td>1.114036</td>\n",
       "      <td>...</td>\n",
       "      <td>NaN</td>\n",
       "      <td>NaN</td>\n",
       "      <td>NaN</td>\n",
       "      <td>NaN</td>\n",
       "      <td>NaN</td>\n",
       "      <td>NaN</td>\n",
       "      <td>NaN</td>\n",
       "      <td>NaN</td>\n",
       "      <td>NaN</td>\n",
       "      <td>NaN</td>\n",
       "    </tr>\n",
       "    <tr>\n",
       "      <th>1</th>\n",
       "      <td>17</td>\n",
       "      <td>0.038462</td>\n",
       "      <td>2</td>\n",
       "      <td>0.500000</td>\n",
       "      <td>3.678311</td>\n",
       "      <td>-1.047293</td>\n",
       "      <td>2.890748</td>\n",
       "      <td>6.128157</td>\n",
       "      <td>2.873263</td>\n",
       "      <td>1.114036</td>\n",
       "      <td>...</td>\n",
       "      <td>NaN</td>\n",
       "      <td>NaN</td>\n",
       "      <td>NaN</td>\n",
       "      <td>NaN</td>\n",
       "      <td>NaN</td>\n",
       "      <td>NaN</td>\n",
       "      <td>NaN</td>\n",
       "      <td>NaN</td>\n",
       "      <td>NaN</td>\n",
       "      <td>NaN</td>\n",
       "    </tr>\n",
       "    <tr>\n",
       "      <th>2</th>\n",
       "      <td>18</td>\n",
       "      <td>0.047619</td>\n",
       "      <td>4</td>\n",
       "      <td>0.250000</td>\n",
       "      <td>3.678311</td>\n",
       "      <td>-1.047293</td>\n",
       "      <td>2.890748</td>\n",
       "      <td>6.128157</td>\n",
       "      <td>2.873263</td>\n",
       "      <td>1.114036</td>\n",
       "      <td>...</td>\n",
       "      <td>NaN</td>\n",
       "      <td>NaN</td>\n",
       "      <td>NaN</td>\n",
       "      <td>NaN</td>\n",
       "      <td>NaN</td>\n",
       "      <td>NaN</td>\n",
       "      <td>NaN</td>\n",
       "      <td>NaN</td>\n",
       "      <td>NaN</td>\n",
       "      <td>NaN</td>\n",
       "    </tr>\n",
       "    <tr>\n",
       "      <th>3</th>\n",
       "      <td>20</td>\n",
       "      <td>0.666667</td>\n",
       "      <td>3</td>\n",
       "      <td>0.333333</td>\n",
       "      <td>3.686063</td>\n",
       "      <td>-0.907135</td>\n",
       "      <td>2.903715</td>\n",
       "      <td>6.136791</td>\n",
       "      <td>2.929729</td>\n",
       "      <td>0.739181</td>\n",
       "      <td>...</td>\n",
       "      <td>NaN</td>\n",
       "      <td>NaN</td>\n",
       "      <td>NaN</td>\n",
       "      <td>NaN</td>\n",
       "      <td>NaN</td>\n",
       "      <td>NaN</td>\n",
       "      <td>NaN</td>\n",
       "      <td>NaN</td>\n",
       "      <td>NaN</td>\n",
       "      <td>NaN</td>\n",
       "    </tr>\n",
       "    <tr>\n",
       "      <th>4</th>\n",
       "      <td>22</td>\n",
       "      <td>0.538462</td>\n",
       "      <td>7</td>\n",
       "      <td>0.571429</td>\n",
       "      <td>3.899842</td>\n",
       "      <td>-0.900514</td>\n",
       "      <td>2.917708</td>\n",
       "      <td>6.131968</td>\n",
       "      <td>2.955072</td>\n",
       "      <td>0.733698</td>\n",
       "      <td>...</td>\n",
       "      <td>0.011436</td>\n",
       "      <td>0.041385</td>\n",
       "      <td>0.022313</td>\n",
       "      <td>0.017075</td>\n",
       "      <td>0.186384</td>\n",
       "      <td>1.315851</td>\n",
       "      <td>0.306499</td>\n",
       "      <td>0.163156</td>\n",
       "      <td>0.052239</td>\n",
       "      <td>0.002832</td>\n",
       "    </tr>\n",
       "  </tbody>\n",
       "</table>\n",
       "<p>5 rows × 40 columns</p>\n",
       "</div>"
      ],
      "text/plain": [
       "   PlotObservationID  TraitCoverage_cover  Species_richness  TraitCoverage_pa  \\\n",
       "0                 16             0.277778                 3          0.333333   \n",
       "1                 17             0.038462                 2          0.500000   \n",
       "2                 18             0.047619                 4          0.250000   \n",
       "3                 20             0.666667                 3          0.333333   \n",
       "4                 22             0.538462                 7          0.571429   \n",
       "\n",
       "   LeafArea_CWM  StemDens_CWM   SLA_CWM  LeafC_perdrymass_CWM  LeafN_CWM  \\\n",
       "0      3.678311     -1.047293  2.890748              6.128157   2.873263   \n",
       "1      3.678311     -1.047293  2.890748              6.128157   2.873263   \n",
       "2      3.678311     -1.047293  2.890748              6.128157   2.873263   \n",
       "3      3.686063     -0.907135  2.903715              6.136791   2.929729   \n",
       "4      3.899842     -0.900514  2.917708              6.131968   2.955072   \n",
       "\n",
       "   LeafP_CWM  ...  Seed_length_CWV  LDMC_CWV  LeafNperArea_CWV  \\\n",
       "0   1.114036  ...              NaN       NaN               NaN   \n",
       "1   1.114036  ...              NaN       NaN               NaN   \n",
       "2   1.114036  ...              NaN       NaN               NaN   \n",
       "3   0.739181  ...              NaN       NaN               NaN   \n",
       "4   0.733698  ...         0.011436  0.041385          0.022313   \n",
       "\n",
       "   LeafNPratio_CWV  Leaf_delta_15N_CWV  Seed_num_rep_unit_CWV  \\\n",
       "0              NaN                 NaN                    NaN   \n",
       "1              NaN                 NaN                    NaN   \n",
       "2              NaN                 NaN                    NaN   \n",
       "3              NaN                 NaN                    NaN   \n",
       "4         0.017075            0.186384               1.315851   \n",
       "\n",
       "   Leaffreshmass_CWV  Stem_cond_dens_CWV  Disp_unit_leng_CWV  \\\n",
       "0                NaN                 NaN                 NaN   \n",
       "1                NaN                 NaN                 NaN   \n",
       "2                NaN                 NaN                 NaN   \n",
       "3                NaN                 NaN                 NaN   \n",
       "4           0.306499            0.163156            0.052239   \n",
       "\n",
       "   Wood_vessel_length_CWV  \n",
       "0                     NaN  \n",
       "1                     NaN  \n",
       "2                     NaN  \n",
       "3                     NaN  \n",
       "4                0.002832  \n",
       "\n",
       "[5 rows x 40 columns]"
      ]
     },
     "execution_count": 37,
     "metadata": {},
     "output_type": "execute_result"
    }
   ],
   "source": [
    "cwm.head()"
   ]
  },
  {
   "cell_type": "markdown",
   "id": "6b8172d1",
   "metadata": {},
   "source": [
    "View information on the dataframe."
   ]
  },
  {
   "cell_type": "code",
   "execution_count": 38,
   "id": "ee13707e",
   "metadata": {},
   "outputs": [
    {
     "name": "stdout",
     "output_type": "stream",
     "text": [
      "<class 'pandas.core.frame.DataFrame'>\n",
      "RangeIndex: 95104 entries, 0 to 95103\n",
      "Data columns (total 40 columns):\n",
      " #   Column                  Non-Null Count  Dtype  \n",
      "---  ------                  --------------  -----  \n",
      " 0   PlotObservationID       95104 non-null  int64  \n",
      " 1   TraitCoverage_cover     95104 non-null  float64\n",
      " 2   Species_richness        95104 non-null  int64  \n",
      " 3   TraitCoverage_pa        95104 non-null  float64\n",
      " 4   LeafArea_CWM            94622 non-null  float64\n",
      " 5   StemDens_CWM            94622 non-null  float64\n",
      " 6   SLA_CWM                 94622 non-null  float64\n",
      " 7   LeafC_perdrymass_CWM    94622 non-null  float64\n",
      " 8   LeafN_CWM               94622 non-null  float64\n",
      " 9   LeafP_CWM               94622 non-null  float64\n",
      " 10  PlantHeight_CWM         94622 non-null  float64\n",
      " 11  SeedMass_CWM            94622 non-null  float64\n",
      " 12  Seed_length_CWM         94622 non-null  float64\n",
      " 13  LDMC_CWM                94622 non-null  float64\n",
      " 14  LeafNperArea_CWM        94622 non-null  float64\n",
      " 15  LeafNPratio_CWM         94622 non-null  float64\n",
      " 16  Leaf_delta_15N_CWM      94622 non-null  float64\n",
      " 17  Seed_num_rep_unit_CWM   94622 non-null  float64\n",
      " 18  Leaffreshmass_CWM       94622 non-null  float64\n",
      " 19  Stem_cond_dens_CWM      94622 non-null  float64\n",
      " 20  Disp_unit_leng_CWM      94622 non-null  float64\n",
      " 21  Wood_vessel_length_CWM  94622 non-null  float64\n",
      " 22  LeafArea_CWV            92268 non-null  float64\n",
      " 23  StemDens_CWV            92268 non-null  float64\n",
      " 24  SLA_CWV                 92268 non-null  float64\n",
      " 25  LeafC_perdrymass_CWV    92268 non-null  float64\n",
      " 26  LeafN_CWV               92268 non-null  float64\n",
      " 27  LeafP_CWV               92268 non-null  float64\n",
      " 28  PlantHeight_CWV         92268 non-null  float64\n",
      " 29  SeedMass_CWV            92268 non-null  float64\n",
      " 30  Seed_length_CWV         92268 non-null  float64\n",
      " 31  LDMC_CWV                92268 non-null  float64\n",
      " 32  LeafNperArea_CWV        92268 non-null  float64\n",
      " 33  LeafNPratio_CWV         92268 non-null  float64\n",
      " 34  Leaf_delta_15N_CWV      92268 non-null  float64\n",
      " 35  Seed_num_rep_unit_CWV   92268 non-null  float64\n",
      " 36  Leaffreshmass_CWV       92268 non-null  float64\n",
      " 37  Stem_cond_dens_CWV      92268 non-null  float64\n",
      " 38  Disp_unit_leng_CWV      92268 non-null  float64\n",
      " 39  Wood_vessel_length_CWV  92268 non-null  float64\n",
      "dtypes: float64(38), int64(2)\n",
      "memory usage: 29.0 MB\n"
     ]
    }
   ],
   "source": [
    "cwm.info()"
   ]
  },
  {
   "cell_type": "markdown",
   "id": "b0b89dad",
   "metadata": {},
   "source": [
    "### 🤖 Try it!\n",
    "\n",
    "1. **Plot histograms of two trait cwm's you are interested in. *Extra credit: Plot both histograms inside one graph.***\n",
    "2. **Save figure(s) as PDF.**\n",
    "3. **Check via your Jupyter notebook if the figure was gererated properly.**\n",
    "4. **Plot a scatter plot using one trait x values and another trait on as y values.**\n",
    "5. **Calculate Pearson's correlation coefficient to quantify the linear relationship of trait x and trait y.**\n",
    "\n",
    "*Extra credit:* Try and use the keyboard shortcuts to move around the notebook.\n",
    "*Note:* There are, of course, many different ways to answer these questions."
   ]
  },
  {
   "cell_type": "code",
   "execution_count": null,
   "id": "6ac69049",
   "metadata": {},
   "outputs": [],
   "source": [
    "# plot trait cwm histogramm and export as PDF (give it a unique name!)"
   ]
  },
  {
   "cell_type": "markdown",
   "id": "8a388cab",
   "metadata": {},
   "source": [
    "Check if image was generated properly."
   ]
  },
  {
   "cell_type": "code",
   "execution_count": null,
   "id": "7ad65f4f",
   "metadata": {},
   "outputs": [],
   "source": [
    "# plot scatterplot of two traits in relation"
   ]
  },
  {
   "cell_type": "code",
   "execution_count": null,
   "id": "04314bd3",
   "metadata": {},
   "outputs": [],
   "source": [
    "# calculate Pearson's correlation coefficient r\n",
    "# Hint 1: Use the pandas function DataFrame.corr() \n",
    "# Hint 2: Subsetting a pandas dataframe works like this: df[[\"variable_1\", \"variable_2\"]]\n",
    "# Or switch over to R using line or cell magic"
   ]
  },
  {
   "cell_type": "markdown",
   "id": "3caa098a",
   "metadata": {},
   "source": [
    "---"
   ]
  },
  {
   "cell_type": "markdown",
   "id": "e3b76851",
   "metadata": {},
   "source": [
    "## Export your notebook"
   ]
  },
  {
   "cell_type": "markdown",
   "id": "b0c6b4f4",
   "metadata": {},
   "source": [
    "Go to ```File > Download as``` at the top left in your Jupyter notebook window. You can download your notebook as:\n",
    "    \n",
    "   - ```html```, which you could incorporate into your web-documentation, for example\n",
    "   - as a ```PDF```\n",
    "   - in Jupyter notebook format ```.ipynb```\n",
    "   - as Python code ```.py```\n",
    "   \n",
    "and many more."
   ]
  },
  {
   "cell_type": "markdown",
   "id": "67fbd878",
   "metadata": {},
   "source": [
    "### 🤖 Try it!\n",
    "\n",
    "**Export this notebook as an html file and view it in your browser.**"
   ]
  },
  {
   "cell_type": "markdown",
   "id": "aae9a768",
   "metadata": {},
   "source": [
    "---"
   ]
  },
  {
   "cell_type": "markdown",
   "id": "9e83f4f9",
   "metadata": {},
   "source": [
    "## Requirements / Packages used in session"
   ]
  },
  {
   "cell_type": "code",
   "execution_count": 39,
   "id": "e3a53abb",
   "metadata": {},
   "outputs": [
    {
     "data": {
      "text/html": [
       "<details>\n",
       "<summary>Click to view session information</summary>\n",
       "<pre>\n",
       "-----\n",
       "matplotlib          3.5.1\n",
       "numpy               1.21.5\n",
       "pandas              1.4.2\n",
       "session_info        1.0.0\n",
       "-----\n",
       "</pre>\n",
       "<details>\n",
       "<summary>Click to view modules imported as dependencies</summary>\n",
       "<pre>\n",
       "PIL                         9.2.0\n",
       "appnope                     0.1.3\n",
       "asttokens                   NA\n",
       "backcall                    0.2.0\n",
       "backports                   NA\n",
       "cffi                        1.15.1\n",
       "cycler                      0.10.0\n",
       "cython_runtime              NA\n",
       "dateutil                    2.8.2\n",
       "debugpy                     1.6.3\n",
       "decorator                   5.1.1\n",
       "defusedxml                  0.7.1\n",
       "entrypoints                 0.4\n",
       "executing                   1.2.0\n",
       "ipykernel                   6.17.1\n",
       "ipython_genutils            0.2.0\n",
       "jedi                        0.18.1\n",
       "jinja2                      3.1.2\n",
       "kiwisolver                  1.4.4\n",
       "markupsafe                  2.1.1\n",
       "matplotlib_inline           0.1.6\n",
       "mpl_toolkits                NA\n",
       "packaging                   21.3\n",
       "parso                       0.8.3\n",
       "pexpect                     4.8.0\n",
       "pickleshare                 0.7.5\n",
       "pkg_resources               NA\n",
       "platformdirs                2.5.2\n",
       "prompt_toolkit              3.0.32\n",
       "psutil                      5.9.4\n",
       "ptyprocess                  0.7.0\n",
       "pure_eval                   0.2.2\n",
       "pydev_ipython               NA\n",
       "pydevconsole                NA\n",
       "pydevd                      2.8.0\n",
       "pydevd_file_utils           NA\n",
       "pydevd_plugins              NA\n",
       "pydevd_tracing              NA\n",
       "pygments                    2.13.0\n",
       "pyparsing                   3.0.9\n",
       "pytz                        2022.6\n",
       "pytz_deprecation_shim       NA\n",
       "rpy2                        3.5.1\n",
       "six                         1.16.0\n",
       "stack_data                  0.6.0\n",
       "tornado                     6.2\n",
       "traitlets                   5.5.0\n",
       "tzlocal                     NA\n",
       "wcwidth                     0.2.5\n",
       "zmq                         24.0.1\n",
       "</pre>\n",
       "</details> <!-- seems like this ends pre, so might as well be explicit -->\n",
       "<pre>\n",
       "-----\n",
       "IPython             8.6.0\n",
       "jupyter_client      7.4.4\n",
       "jupyter_core        5.0.0\n",
       "notebook            6.5.2\n",
       "-----\n",
       "Python 3.8.13 | packaged by conda-forge | (default, Mar 25 2022, 06:05:16) [Clang 12.0.1 ]\n",
       "macOS-11.2-arm64-arm-64bit\n",
       "-----\n",
       "Session information updated at 2022-11-10 15:58\n",
       "</pre>\n",
       "</details>"
      ],
      "text/plain": [
       "<IPython.core.display.HTML object>"
      ]
     },
     "execution_count": 39,
     "metadata": {},
     "output_type": "execute_result"
    }
   ],
   "source": [
    "import session_info\n",
    "session_info.show()"
   ]
  }
 ],
 "metadata": {
  "kernelspec": {
   "display_name": "Python 3 (ipykernel)",
   "language": "python",
   "name": "python3"
  },
  "language_info": {
   "codemirror_mode": {
    "name": "ipython",
    "version": 3
   },
   "file_extension": ".py",
   "mimetype": "text/x-python",
   "name": "python",
   "nbconvert_exporter": "python",
   "pygments_lexer": "ipython3",
   "version": "3.8.13"
  }
 },
 "nbformat": 4,
 "nbformat_minor": 5
}