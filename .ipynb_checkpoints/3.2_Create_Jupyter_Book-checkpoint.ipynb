{
 "cells": [
  {
   "cell_type": "markdown",
   "id": "14366e92-8bbf-4aeb-96ce-49fe9f6145a9",
   "metadata": {},
   "source": [
    "# Publish your workflow as Jupyter Book"
   ]
  },
  {
   "cell_type": "markdown",
   "id": "04dc3842-e972-4a1e-99bf-f846c292cab0",
   "metadata": {},
   "source": [
    "Most of this content was taken from the Jupyter Book documentation: https://jupyterbook.org/en/stable/start/overview.html"
   ]
  },
  {
   "cell_type": "markdown",
   "id": "3855ea55-c664-471f-8c70-5ae411b3e8c1",
   "metadata": {},
   "source": [
    "## Install Jupyter Book"
   ]
  },
  {
   "cell_type": "markdown",
   "id": "31fcae9b-7629-4510-9cf9-9e5ba45f1fe3",
   "metadata": {},
   "source": [
    "First, install Jupyter Book via pip:"
   ]
  },
  {
   "cell_type": "code",
   "execution_count": null,
   "id": "1582f2eb-183e-4743-bfae-d77e156f5547",
   "metadata": {},
   "outputs": [],
   "source": [
    "!pip install -U jupyter-book"
   ]
  },
  {
   "cell_type": "markdown",
   "id": "3886dbff-4b05-4495-86de-b53af60ccdb6",
   "metadata": {},
   "source": [
    "or via conda-forge:"
   ]
  },
  {
   "cell_type": "code",
   "execution_count": null,
   "id": "7262f8ee-6339-4f77-899f-0bb187ca633d",
   "metadata": {},
   "outputs": [],
   "source": [
    "!conda install -c conda-forge jupyter-book"
   ]
  },
  {
   "cell_type": "markdown",
   "id": "4673571e-a5b2-45d0-9a17-228bf81df989",
   "metadata": {},
   "source": [
    "## Create Book"
   ]
  },
  {
   "cell_type": "markdown",
   "id": "bccd197b-4720-42ad-8c75-51f050bf1036",
   "metadata": {},
   "source": [
    "### Create first template"
   ]
  },
  {
   "cell_type": "code",
   "execution_count": 7,
   "id": "70ac549f-1fa7-46f0-9500-3a49e7e3f28e",
   "metadata": {},
   "outputs": [
    {
     "name": "stdout",
     "output_type": "stream",
     "text": [
      "\n",
      "\u001b[92m===============================================================================\u001b[0m\n",
      "\n",
      "Your book template can be found at\n",
      "\n",
      "    JupyterTutorial/\n",
      "\n",
      "\u001b[92m===============================================================================\u001b[0m\n",
      "\n"
     ]
    }
   ],
   "source": [
    "%%bash \n",
    "\n",
    "jupyter-book create JupyterTutorial/"
   ]
  },
  {
   "cell_type": "markdown",
   "id": "85bc7a7e-2a1e-451a-8658-f8ba3040fe32",
   "metadata": {},
   "source": [
    "### Customize the template"
   ]
  },
  {
   "cell_type": "markdown",
   "id": "911e94f2-e59b-442f-ac27-f6524d02f1f6",
   "metadata": {},
   "source": [
    "Open the NewJupyterBook/ directory and open the ```_config.yml``` file and the ```_toc.yml``` file."
   ]
  },
  {
   "cell_type": "markdown",
   "id": "e8bdbfb5-6fc2-4aa8-8b99-e79084d85819",
   "metadata": {},
   "source": [
    "Edit your ```_toc.yml``` (table of conents) file by adding the jupyter notebook and markdwon file names. You do not need to add the ```*.ipynb``` endings. Here is an example: "
   ]
  },
  {
   "cell_type": "markdown",
   "id": "d40b000b-5102-4e03-b894-e93fc9dbe92e",
   "metadata": {},
   "source": [
    "<img align=\"left\" src=\"Figures/toc.png\" width=\"500\" >"
   ]
  },
  {
   "cell_type": "markdown",
   "id": "599be5bd-4d14-4a3c-91be-71b20c3b3742",
   "metadata": {},
   "source": [
    "For more structure options (sub-sections, chapters etc.), refer to https://jupyterbook.org/en/stable/structure/toc.html"
   ]
  },
  {
   "cell_type": "markdown",
   "id": "9da8f7f3-bd2a-44a5-89f9-f350f4803bdf",
   "metadata": {},
   "source": [
    "Next, edit the ```_config.yml``` file.\n",
    "    \n",
    " - change the title\n",
    "- the author name\n",
    "- set excectue to ```'off'```, if you do not want jupyter book to rerun all your code. Otherwise set to ```force```. This will rerun your code as it builds the book. "
   ]
  },
  {
   "cell_type": "markdown",
   "id": "57ffaebe-57fb-4e79-9609-ed206898d989",
   "metadata": {},
   "source": [
    "<img align=\"left\" src=\"Figures/config.png\" width=\"700\" >"
   ]
  },
  {
   "cell_type": "markdown",
   "id": "bcf6a3a5-ea99-49cd-8cd3-afe7e7cb00b5",
   "metadata": {},
   "source": [
    "## Build Book"
   ]
  },
  {
   "cell_type": "markdown",
   "id": "e559c10a-adc9-4b5f-92a9-8bc4f7b24924",
   "metadata": {},
   "source": [
    "Check that you are in the directory that contains your book's root folder:"
   ]
  },
  {
   "cell_type": "code",
   "execution_count": 24,
   "id": "897b6f71-c812-411f-9457-2e906a7f8654",
   "metadata": {},
   "outputs": [
    {
     "name": "stdout",
     "output_type": "stream",
     "text": [
      "1.1_Jupyter_Introduction.ipynb  \u001b[34mData\u001b[m\u001b[m\n",
      "1.2_R_Kernel.ipynb              \u001b[34mFigures\u001b[m\u001b[m\n",
      "2.1_Jupyter_Data_Analysis.ipynb \u001b[34mJupyterTutorial\u001b[m\u001b[m\n",
      "2.2_Additional_Materials.ipynb  README.md\n",
      "3.1_Reuse_Course_Material.ipynb \u001b[34mbinder\u001b[m\u001b[m\n",
      "3.2_Create_Jupyter_Book.ipynb\n"
     ]
    }
   ],
   "source": [
    "!ls"
   ]
  },
  {
   "cell_type": "code",
   "execution_count": 36,
   "id": "38c7acd3-723f-46f4-86e7-970b63f7730c",
   "metadata": {},
   "outputs": [
    {
     "name": "stdout",
     "output_type": "stream",
     "text": [
      "\u001b[32m\u001b[1mRunning Jupyter-Book v0.13.1\u001b[0m\n",
      "Traceback (most recent call last):\n",
      "  File \"/Users/sophiewolf/miniforge3/envs/winterschool/lib/python3.8/site-packages/jupyter_book/cli/main.py\", line 244, in build\n",
      "    parse_toc_yaml(toc)\n",
      "  File \"/Users/sophiewolf/miniforge3/envs/winterschool/lib/python3.8/site-packages/sphinx_external_toc/parsing.py\", line 89, in parse_toc_yaml\n",
      "    return parse_toc_data(data)\n",
      "  File \"/Users/sophiewolf/miniforge3/envs/winterschool/lib/python3.8/site-packages/sphinx_external_toc/parsing.py\", line 114, in parse_toc_data\n",
      "    doc_item, docs_list = _parse_doc_item(\n",
      "  File \"/Users/sophiewolf/miniforge3/envs/winterschool/lib/python3.8/site-packages/sphinx_external_toc/parsing.py\", line 151, in _parse_doc_item\n",
      "    raise MalformedError(f\"'{file_key}' key not found @ '{path}'\")\n",
      "sphinx_external_toc.parsing.MalformedError: 'root' key not found @ '/'\n",
      "\n",
      "During handling of the above exception, another exception occurred:\n",
      "\n",
      "Traceback (most recent call last):\n",
      "  File \"/Users/sophiewolf/miniforge3/envs/winterschool/bin/jupyter-book\", line 10, in <module>\n",
      "    sys.exit(main())\n",
      "  File \"/Users/sophiewolf/miniforge3/envs/winterschool/lib/python3.8/site-packages/click/core.py\", line 1130, in __call__\n",
      "    return self.main(*args, **kwargs)\n",
      "  File \"/Users/sophiewolf/miniforge3/envs/winterschool/lib/python3.8/site-packages/click/core.py\", line 1055, in main\n",
      "    rv = self.invoke(ctx)\n",
      "  File \"/Users/sophiewolf/miniforge3/envs/winterschool/lib/python3.8/site-packages/click/core.py\", line 1657, in invoke\n",
      "    return _process_result(sub_ctx.command.invoke(sub_ctx))\n",
      "  File \"/Users/sophiewolf/miniforge3/envs/winterschool/lib/python3.8/site-packages/click/core.py\", line 1404, in invoke\n",
      "    return ctx.invoke(self.callback, **ctx.params)\n",
      "  File \"/Users/sophiewolf/miniforge3/envs/winterschool/lib/python3.8/site-packages/click/core.py\", line 760, in invoke\n",
      "    return __callback(*args, **kwargs)\n",
      "  File \"/Users/sophiewolf/miniforge3/envs/winterschool/lib/python3.8/site-packages/jupyter_book/cli/main.py\", line 246, in build\n",
      "    _error(\n",
      "  File \"/Users/sophiewolf/miniforge3/envs/winterschool/lib/python3.8/site-packages/jupyter_book/utils.py\", line 48, in _error\n",
      "    raise kind(box)\n",
      "RuntimeError: \n",
      "\u001b[91m===============================================================================\u001b[0m\n",
      "\n",
      "The Table of Contents file is malformed: 'root' key not found @ '/'\n",
      "You may need to migrate from the old format, using:\n",
      "\n",
      "\tjupyter-book toc migrate /Users/sophiewolf/Documents/GitHub/Jupyter_Workshop_Winterschool_2022/JupyterTutorial/_toc.yml -o /Users/sophiewolf/Documents/GitHub/Jupyter_Workshop_Winterschool_2022/JupyterTutorial/_toc.yml\n",
      "\n",
      "\u001b[91m===============================================================================\u001b[0m\n",
      "\n"
     ]
    }
   ],
   "source": [
    "!jupyter-book build JupyterTutorial/"
   ]
  }
 ],
 "metadata": {
  "kernelspec": {
   "display_name": "Python 3 (ipykernel)",
   "language": "python",
   "name": "python3"
  },
  "language_info": {
   "codemirror_mode": {
    "name": "ipython",
    "version": 3
   },
   "file_extension": ".py",
   "mimetype": "text/x-python",
   "name": "python",
   "nbconvert_exporter": "python",
   "pygments_lexer": "ipython3",
   "version": "3.8.13"
  }
 },
 "nbformat": 4,
 "nbformat_minor": 5
}
